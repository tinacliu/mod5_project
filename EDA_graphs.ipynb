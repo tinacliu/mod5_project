{
 "cells": [
  {
   "cell_type": "code",
   "execution_count": 1,
   "metadata": {},
   "outputs": [],
   "source": [
    "import pandas as pd\n",
    "import seaborn as sns\n",
    "import matplotlib.pyplot as plt\n",
    "\n",
    "import cleaning"
   ]
  },
  {
   "cell_type": "markdown",
   "metadata": {},
   "source": [
    "<h3> Data Cleaning </h3>"
   ]
  },
  {
   "cell_type": "code",
   "execution_count": 2,
   "metadata": {},
   "outputs": [],
   "source": [
    "df = cleaning.clean_raw()"
   ]
  },
  {
   "cell_type": "markdown",
   "metadata": {},
   "source": [
    "<h2> Q1: are older customers better customers? </h2>"
   ]
  },
  {
   "cell_type": "code",
   "execution_count": 3,
   "metadata": {},
   "outputs": [
    {
     "data": {
      "text/html": [
       "<div>\n",
       "<style scoped>\n",
       "    .dataframe tbody tr th:only-of-type {\n",
       "        vertical-align: middle;\n",
       "    }\n",
       "\n",
       "    .dataframe tbody tr th {\n",
       "        vertical-align: top;\n",
       "    }\n",
       "\n",
       "    .dataframe thead th {\n",
       "        text-align: right;\n",
       "    }\n",
       "</style>\n",
       "<table border=\"1\" class=\"dataframe\">\n",
       "  <thead>\n",
       "    <tr style=\"text-align: right;\">\n",
       "      <th></th>\n",
       "      <th>sex</th>\n",
       "      <th>age_bucket</th>\n",
       "      <th>counts</th>\n",
       "      <th>default%</th>\n",
       "    </tr>\n",
       "  </thead>\n",
       "  <tbody>\n",
       "    <tr>\n",
       "      <th>0</th>\n",
       "      <td>1</td>\n",
       "      <td>(0, 25]</td>\n",
       "      <td>1165</td>\n",
       "      <td>0.292704</td>\n",
       "    </tr>\n",
       "    <tr>\n",
       "      <th>1</th>\n",
       "      <td>1</td>\n",
       "      <td>(25, 30]</td>\n",
       "      <td>2671</td>\n",
       "      <td>0.213403</td>\n",
       "    </tr>\n",
       "    <tr>\n",
       "      <th>2</th>\n",
       "      <td>1</td>\n",
       "      <td>(30, 35]</td>\n",
       "      <td>2307</td>\n",
       "      <td>0.218032</td>\n",
       "    </tr>\n",
       "    <tr>\n",
       "      <th>3</th>\n",
       "      <td>1</td>\n",
       "      <td>(35, 40]</td>\n",
       "      <td>2046</td>\n",
       "      <td>0.249267</td>\n",
       "    </tr>\n",
       "    <tr>\n",
       "      <th>4</th>\n",
       "      <td>1</td>\n",
       "      <td>(40, 50]</td>\n",
       "      <td>2582</td>\n",
       "      <td>0.250968</td>\n",
       "    </tr>\n",
       "    <tr>\n",
       "      <th>5</th>\n",
       "      <td>1</td>\n",
       "      <td>(50, 80]</td>\n",
       "      <td>1095</td>\n",
       "      <td>0.273059</td>\n",
       "    </tr>\n",
       "    <tr>\n",
       "      <th>6</th>\n",
       "      <td>2</td>\n",
       "      <td>(0, 25]</td>\n",
       "      <td>2703</td>\n",
       "      <td>0.255642</td>\n",
       "    </tr>\n",
       "    <tr>\n",
       "      <th>7</th>\n",
       "      <td>2</td>\n",
       "      <td>(25, 30]</td>\n",
       "      <td>4459</td>\n",
       "      <td>0.194438</td>\n",
       "    </tr>\n",
       "    <tr>\n",
       "      <th>8</th>\n",
       "      <td>2</td>\n",
       "      <td>(30, 35]</td>\n",
       "      <td>3477</td>\n",
       "      <td>0.179177</td>\n",
       "    </tr>\n",
       "    <tr>\n",
       "      <th>9</th>\n",
       "      <td>2</td>\n",
       "      <td>(35, 40]</td>\n",
       "      <td>2854</td>\n",
       "      <td>0.193763</td>\n",
       "    </tr>\n",
       "    <tr>\n",
       "      <th>10</th>\n",
       "      <td>2</td>\n",
       "      <td>(40, 50]</td>\n",
       "      <td>3405</td>\n",
       "      <td>0.219677</td>\n",
       "    </tr>\n",
       "    <tr>\n",
       "      <th>11</th>\n",
       "      <td>2</td>\n",
       "      <td>(50, 80]</td>\n",
       "      <td>1168</td>\n",
       "      <td>0.238014</td>\n",
       "    </tr>\n",
       "  </tbody>\n",
       "</table>\n",
       "</div>"
      ],
      "text/plain": [
       "    sex age_bucket  counts  default%\n",
       "0     1    (0, 25]    1165  0.292704\n",
       "1     1   (25, 30]    2671  0.213403\n",
       "2     1   (30, 35]    2307  0.218032\n",
       "3     1   (35, 40]    2046  0.249267\n",
       "4     1   (40, 50]    2582  0.250968\n",
       "5     1   (50, 80]    1095  0.273059\n",
       "6     2    (0, 25]    2703  0.255642\n",
       "7     2   (25, 30]    4459  0.194438\n",
       "8     2   (30, 35]    3477  0.179177\n",
       "9     2   (35, 40]    2854  0.193763\n",
       "10    2   (40, 50]    3405  0.219677\n",
       "11    2   (50, 80]    1168  0.238014"
      ]
     },
     "execution_count": 3,
     "metadata": {},
     "output_type": "execute_result"
    }
   ],
   "source": [
    "# create bins for age\n",
    "df['age_bucket'] = pd.cut(df.age, bins=[0, 25, 30, 35, 40, 50, 80])\n",
    "\n",
    "# group the data by sex and age bucket to calculate % of default contained in that bin\n",
    "age_sex = df.groupby(['sex','age_bucket']).agg({'default':['count','mean']})\n",
    "\n",
    "\n",
    "# reset the index again for slicing and plotting data\n",
    "age_sex.reset_index(inplace=True)\n",
    "age_sex.columns = age_sex.columns.get_level_values(0)\n",
    "\n",
    "age_sex.columns = ['sex','age_bucket','counts','default%']\n",
    "age_sex"
   ]
  },
  {
   "cell_type": "code",
   "execution_count": 4,
   "metadata": {},
   "outputs": [],
   "source": [
    "# create a function to plot bar charts for default% for various slices, segments of data\n",
    "def default_compare_plt(df, x, y, colour,i):\n",
    "    df.plot(\n",
    "    x = x, y= y, kind='bar', figsize=(8,6),\n",
    "    title=f'Default% for {i} Customers', fontsize=12, color=colour, legend=False, ylim=(0,0.3)\n",
    ");"
   ]
  },
  {
   "cell_type": "code",
   "execution_count": 5,
   "metadata": {},
   "outputs": [
    {
     "data": {
      "image/png": "[encoded data removed]",
      "text/plain": [
       "<Figure size 576x432 with 1 Axes>"
      ]
     },
     "metadata": {
      "needs_background": "light"
     },
     "output_type": "display_data"
    },
    {
     "data": {
      "image/png": "[encoded data removed]",
      "text/plain": [
       "<Figure size 576x432 with 1 Axes>"
      ]
     },
     "metadata": {
      "needs_background": "light"
     },
     "output_type": "display_data"
    }
   ],
   "source": [
    "default_compare_plt(age_sex[age_sex['sex'] == 1],'age_bucket','default%','lightblue','Male')\n",
    "default_compare_plt(age_sex[age_sex['sex'] == 2],'age_bucket','default%','pink','Female')"
   ]
  },
  {
   "cell_type": "markdown",
   "metadata": {},
   "source": [
    "<h2> Q2: are customers with higher education better customers? </h2>"
   ]
  },
  {
   "cell_type": "code",
   "execution_count": 6,
   "metadata": {},
   "outputs": [
    {
     "data": {
      "text/html": [
       "<div>\n",
       "<style scoped>\n",
       "    .dataframe tbody tr th:only-of-type {\n",
       "        vertical-align: middle;\n",
       "    }\n",
       "\n",
       "    .dataframe tbody tr th {\n",
       "        vertical-align: top;\n",
       "    }\n",
       "\n",
       "    .dataframe thead th {\n",
       "        text-align: right;\n",
       "    }\n",
       "</style>\n",
       "<table border=\"1\" class=\"dataframe\">\n",
       "  <thead>\n",
       "    <tr style=\"text-align: right;\">\n",
       "      <th></th>\n",
       "      <th>sex</th>\n",
       "      <th>education</th>\n",
       "      <th>counts</th>\n",
       "      <th>default%</th>\n",
       "    </tr>\n",
       "  </thead>\n",
       "  <tbody>\n",
       "    <tr>\n",
       "      <th>0</th>\n",
       "      <td>1</td>\n",
       "      <td>1</td>\n",
       "      <td>4353</td>\n",
       "      <td>0.208132</td>\n",
       "    </tr>\n",
       "    <tr>\n",
       "      <th>1</th>\n",
       "      <td>1</td>\n",
       "      <td>2</td>\n",
       "      <td>5373</td>\n",
       "      <td>0.262051</td>\n",
       "    </tr>\n",
       "    <tr>\n",
       "      <th>2</th>\n",
       "      <td>1</td>\n",
       "      <td>3</td>\n",
       "      <td>1978</td>\n",
       "      <td>0.274520</td>\n",
       "    </tr>\n",
       "    <tr>\n",
       "      <th>3</th>\n",
       "      <td>1</td>\n",
       "      <td>4</td>\n",
       "      <td>162</td>\n",
       "      <td>0.086420</td>\n",
       "    </tr>\n",
       "    <tr>\n",
       "      <th>4</th>\n",
       "      <td>2</td>\n",
       "      <td>1</td>\n",
       "      <td>6228</td>\n",
       "      <td>0.181439</td>\n",
       "    </tr>\n",
       "    <tr>\n",
       "      <th>5</th>\n",
       "      <td>2</td>\n",
       "      <td>2</td>\n",
       "      <td>8651</td>\n",
       "      <td>0.222055</td>\n",
       "    </tr>\n",
       "    <tr>\n",
       "      <th>6</th>\n",
       "      <td>2</td>\n",
       "      <td>3</td>\n",
       "      <td>2895</td>\n",
       "      <td>0.238342</td>\n",
       "    </tr>\n",
       "    <tr>\n",
       "      <th>7</th>\n",
       "      <td>2</td>\n",
       "      <td>4</td>\n",
       "      <td>292</td>\n",
       "      <td>0.065068</td>\n",
       "    </tr>\n",
       "  </tbody>\n",
       "</table>\n",
       "</div>"
      ],
      "text/plain": [
       "   sex  education  counts  default%\n",
       "0    1          1    4353  0.208132\n",
       "1    1          2    5373  0.262051\n",
       "2    1          3    1978  0.274520\n",
       "3    1          4     162  0.086420\n",
       "4    2          1    6228  0.181439\n",
       "5    2          2    8651  0.222055\n",
       "6    2          3    2895  0.238342\n",
       "7    2          4     292  0.065068"
      ]
     },
     "execution_count": 6,
     "metadata": {},
     "output_type": "execute_result"
    }
   ],
   "source": [
    "edu_sex = df.groupby(['sex','education']).agg({'default':['count','mean']})\n",
    "\n",
    "# reset the index again for slicing and plotting data\n",
    "edu_sex.reset_index(inplace=True)\n",
    "edu_sex.columns = age_sex.columns.get_level_values(0)\n",
    "\n",
    "edu_sex.columns = ['sex','education','counts','default%']\n",
    "edu_sex"
   ]
  },
  {
   "cell_type": "code",
   "execution_count": 7,
   "metadata": {},
   "outputs": [
    {
     "data": {
      "image/png": "[encoded data removed]",
      "text/plain": [
       "<Figure size 576x432 with 1 Axes>"
      ]
     },
     "metadata": {
      "needs_background": "light"
     },
     "output_type": "display_data"
    },
    {
     "data": {
      "image/png": "[encoded data removed]",
      "text/plain": [
       "<Figure size 576x432 with 1 Axes>"
      ]
     },
     "metadata": {
      "needs_background": "light"
     },
     "output_type": "display_data"
    }
   ],
   "source": [
    "default_compare_plt(edu_sex[edu_sex['sex'] == 1],'education','default%','lightblue','Male')\n",
    "default_compare_plt(edu_sex[edu_sex['sex'] == 2],'education','default%','pink','Female')\n"
   ]
  },
  {
   "cell_type": "markdown",
   "metadata": {},
   "source": [
    "<h2> Q3: are married customers better customers? </h2>"
   ]
  },
  {
   "cell_type": "code",
   "execution_count": 8,
   "metadata": {},
   "outputs": [
    {
     "data": {
      "text/html": [
       "<div>\n",
       "<style scoped>\n",
       "    .dataframe tbody tr th:only-of-type {\n",
       "        vertical-align: middle;\n",
       "    }\n",
       "\n",
       "    .dataframe tbody tr th {\n",
       "        vertical-align: top;\n",
       "    }\n",
       "\n",
       "    .dataframe thead th {\n",
       "        text-align: right;\n",
       "    }\n",
       "</style>\n",
       "<table border=\"1\" class=\"dataframe\">\n",
       "  <thead>\n",
       "    <tr style=\"text-align: right;\">\n",
       "      <th></th>\n",
       "      <th>marriage</th>\n",
       "      <th>counts</th>\n",
       "      <th>default%</th>\n",
       "      <th>avg_age</th>\n",
       "      <th>avg_education</th>\n",
       "    </tr>\n",
       "  </thead>\n",
       "  <tbody>\n",
       "    <tr>\n",
       "      <th>0</th>\n",
       "      <td>1</td>\n",
       "      <td>13655</td>\n",
       "      <td>0.234786</td>\n",
       "      <td>40.016917</td>\n",
       "      <td>1.970633</td>\n",
       "    </tr>\n",
       "    <tr>\n",
       "      <th>1</th>\n",
       "      <td>2</td>\n",
       "      <td>15954</td>\n",
       "      <td>0.209415</td>\n",
       "      <td>31.448163</td>\n",
       "      <td>1.719945</td>\n",
       "    </tr>\n",
       "    <tr>\n",
       "      <th>2</th>\n",
       "      <td>3</td>\n",
       "      <td>323</td>\n",
       "      <td>0.260062</td>\n",
       "      <td>42.798762</td>\n",
       "      <td>2.213622</td>\n",
       "    </tr>\n",
       "  </tbody>\n",
       "</table>\n",
       "</div>"
      ],
      "text/plain": [
       "   marriage  counts  default%    avg_age  avg_education\n",
       "0         1   13655  0.234786  40.016917       1.970633\n",
       "1         2   15954  0.209415  31.448163       1.719945\n",
       "2         3     323  0.260062  42.798762       2.213622"
      ]
     },
     "execution_count": 8,
     "metadata": {},
     "output_type": "execute_result"
    }
   ],
   "source": [
    "marr = df.groupby(['marriage']).agg({'default':['count','mean'], 'age':'mean','education':'mean'})\n",
    "marr.reset_index(inplace=True)\n",
    "\n",
    "marr.columns = ['marriage','counts','default%','avg_age','avg_education']\n",
    "marr"
   ]
  },
  {
   "cell_type": "markdown",
   "metadata": {},
   "source": [
    "<h2> Q4: are recent arrears more relevant than past arrears? </h2>"
   ]
  },
  {
   "cell_type": "code",
   "execution_count": 9,
   "metadata": {},
   "outputs": [],
   "source": [
    "# change 3 and above to one bin?\n",
    "arrears = df.groupby(['pay_0']).agg({'default':['count','mean']})\n",
    "\n",
    "arrears.reset_index(inplace=True)\n",
    "arrears.columns = ['arrear_status','count','default%']"
   ]
  },
  {
   "cell_type": "code",
   "execution_count": 10,
   "metadata": {},
   "outputs": [],
   "source": [
    "for i in range(2,7):\n",
    "    arr_temp = df.groupby([f'pay_{i}']).agg({'default':['count','mean']})\n",
    "    arr_temp.reset_index(inplace=True)\n",
    "    arr_temp.columns = ['arrear_status','count','default%']\n",
    "    arrears = arrears.join(arr_temp['default%'],lsuffix=f'_{i-1}',rsuffix=f'_{i}')"
   ]
  },
  {
   "cell_type": "code",
   "execution_count": 11,
   "metadata": {},
   "outputs": [
    {
     "data": {
      "text/html": [
       "<div>\n",
       "<style scoped>\n",
       "    .dataframe tbody tr th:only-of-type {\n",
       "        vertical-align: middle;\n",
       "    }\n",
       "\n",
       "    .dataframe tbody tr th {\n",
       "        vertical-align: top;\n",
       "    }\n",
       "\n",
       "    .dataframe thead th {\n",
       "        text-align: right;\n",
       "    }\n",
       "</style>\n",
       "<table border=\"1\" class=\"dataframe\">\n",
       "  <thead>\n",
       "    <tr style=\"text-align: right;\">\n",
       "      <th></th>\n",
       "      <th>arrear_status</th>\n",
       "      <th>count</th>\n",
       "      <th>default%_1</th>\n",
       "      <th>default%_2</th>\n",
       "      <th>default%_3</th>\n",
       "      <th>default%_4</th>\n",
       "      <th>default%_5</th>\n",
       "      <th>default%_6</th>\n",
       "    </tr>\n",
       "  </thead>\n",
       "  <tbody>\n",
       "    <tr>\n",
       "      <th>0</th>\n",
       "      <td>-2</td>\n",
       "      <td>2749</td>\n",
       "      <td>0.132412</td>\n",
       "      <td>0.183024</td>\n",
       "      <td>0.185749</td>\n",
       "      <td>0.192982</td>\n",
       "      <td>0.197130</td>\n",
       "      <td>0.200943</td>\n",
       "    </tr>\n",
       "    <tr>\n",
       "      <th>1</th>\n",
       "      <td>-1</td>\n",
       "      <td>5667</td>\n",
       "      <td>0.168343</td>\n",
       "      <td>0.160226</td>\n",
       "      <td>0.156472</td>\n",
       "      <td>0.159520</td>\n",
       "      <td>0.162471</td>\n",
       "      <td>0.170309</td>\n",
       "    </tr>\n",
       "    <tr>\n",
       "      <th>2</th>\n",
       "      <td>0</td>\n",
       "      <td>14713</td>\n",
       "      <td>0.128186</td>\n",
       "      <td>0.159259</td>\n",
       "      <td>0.174681</td>\n",
       "      <td>0.183351</td>\n",
       "      <td>0.188723</td>\n",
       "      <td>0.188576</td>\n",
       "    </tr>\n",
       "    <tr>\n",
       "      <th>3</th>\n",
       "      <td>1</td>\n",
       "      <td>3678</td>\n",
       "      <td>0.340131</td>\n",
       "      <td>0.178571</td>\n",
       "      <td>0.250000</td>\n",
       "      <td>0.500000</td>\n",
       "      <td>0.542541</td>\n",
       "      <td>0.507246</td>\n",
       "    </tr>\n",
       "    <tr>\n",
       "      <th>4</th>\n",
       "      <td>2</td>\n",
       "      <td>2663</td>\n",
       "      <td>0.692077</td>\n",
       "      <td>0.556775</td>\n",
       "      <td>0.516146</td>\n",
       "      <td>0.524611</td>\n",
       "      <td>0.638418</td>\n",
       "      <td>0.644809</td>\n",
       "    </tr>\n",
       "    <tr>\n",
       "      <th>5</th>\n",
       "      <td>3</td>\n",
       "      <td>322</td>\n",
       "      <td>0.757764</td>\n",
       "      <td>0.616564</td>\n",
       "      <td>0.579832</td>\n",
       "      <td>0.611111</td>\n",
       "      <td>0.607143</td>\n",
       "      <td>0.632653</td>\n",
       "    </tr>\n",
       "    <tr>\n",
       "      <th>6</th>\n",
       "      <td>4</td>\n",
       "      <td>76</td>\n",
       "      <td>0.684211</td>\n",
       "      <td>0.510204</td>\n",
       "      <td>0.578947</td>\n",
       "      <td>0.666667</td>\n",
       "      <td>0.588235</td>\n",
       "      <td>0.538462</td>\n",
       "    </tr>\n",
       "    <tr>\n",
       "      <th>7</th>\n",
       "      <td>5</td>\n",
       "      <td>25</td>\n",
       "      <td>0.520000</td>\n",
       "      <td>0.600000</td>\n",
       "      <td>0.571429</td>\n",
       "      <td>0.514286</td>\n",
       "      <td>0.750000</td>\n",
       "      <td>0.736842</td>\n",
       "    </tr>\n",
       "    <tr>\n",
       "      <th>8</th>\n",
       "      <td>6</td>\n",
       "      <td>11</td>\n",
       "      <td>0.545455</td>\n",
       "      <td>0.750000</td>\n",
       "      <td>0.608696</td>\n",
       "      <td>0.400000</td>\n",
       "      <td>0.827586</td>\n",
       "      <td>0.826087</td>\n",
       "    </tr>\n",
       "    <tr>\n",
       "      <th>9</th>\n",
       "      <td>7</td>\n",
       "      <td>9</td>\n",
       "      <td>0.777778</td>\n",
       "      <td>0.600000</td>\n",
       "      <td>0.814815</td>\n",
       "      <td>0.827586</td>\n",
       "      <td>1.000000</td>\n",
       "      <td>1.000000</td>\n",
       "    </tr>\n",
       "    <tr>\n",
       "      <th>10</th>\n",
       "      <td>8</td>\n",
       "      <td>19</td>\n",
       "      <td>0.578947</td>\n",
       "      <td>0.000000</td>\n",
       "      <td>0.666667</td>\n",
       "      <td>0.500000</td>\n",
       "      <td>NaN</td>\n",
       "      <td>NaN</td>\n",
       "    </tr>\n",
       "  </tbody>\n",
       "</table>\n",
       "</div>"
      ],
      "text/plain": [
       "    arrear_status  count  default%_1  default%_2  default%_3  default%_4  \\\n",
       "0              -2   2749    0.132412    0.183024    0.185749    0.192982   \n",
       "1              -1   5667    0.168343    0.160226    0.156472    0.159520   \n",
       "2               0  14713    0.128186    0.159259    0.174681    0.183351   \n",
       "3               1   3678    0.340131    0.178571    0.250000    0.500000   \n",
       "4               2   2663    0.692077    0.556775    0.516146    0.524611   \n",
       "5               3    322    0.757764    0.616564    0.579832    0.611111   \n",
       "6               4     76    0.684211    0.510204    0.578947    0.666667   \n",
       "7               5     25    0.520000    0.600000    0.571429    0.514286   \n",
       "8               6     11    0.545455    0.750000    0.608696    0.400000   \n",
       "9               7      9    0.777778    0.600000    0.814815    0.827586   \n",
       "10              8     19    0.578947    0.000000    0.666667    0.500000   \n",
       "\n",
       "    default%_5  default%_6  \n",
       "0     0.197130    0.200943  \n",
       "1     0.162471    0.170309  \n",
       "2     0.188723    0.188576  \n",
       "3     0.542541    0.507246  \n",
       "4     0.638418    0.644809  \n",
       "5     0.607143    0.632653  \n",
       "6     0.588235    0.538462  \n",
       "7     0.750000    0.736842  \n",
       "8     0.827586    0.826087  \n",
       "9     1.000000    1.000000  \n",
       "10         NaN         NaN  "
      ]
     },
     "execution_count": 11,
     "metadata": {},
     "output_type": "execute_result"
    }
   ],
   "source": [
    "arrears"
   ]
  },
  {
   "cell_type": "code",
   "execution_count": 12,
   "metadata": {},
   "outputs": [
    {
     "data": {
      "image/png": "[encoded data removed]",
      "text/plain": [
       "<Figure size 432x288 with 1 Axes>"
      ]
     },
     "metadata": {
      "needs_background": "light"
     },
     "output_type": "display_data"
    }
   ],
   "source": [
    "arrears.iloc[0:6,2:].plot(kind='bar');"
   ]
  },
  {
   "cell_type": "markdown",
   "metadata": {},
   "source": [
    "<h3> Q5: Are people making smaller payments more likley to default?</h3>"
   ]
  },
  {
   "cell_type": "code",
   "execution_count": 16,
   "metadata": {},
   "outputs": [
    {
     "data": {
      "text/html": [
       "<div>\n",
       "<style scoped>\n",
       "    .dataframe tbody tr th:only-of-type {\n",
       "        vertical-align: middle;\n",
       "    }\n",
       "\n",
       "    .dataframe tbody tr th {\n",
       "        vertical-align: top;\n",
       "    }\n",
       "\n",
       "    .dataframe thead th {\n",
       "        text-align: right;\n",
       "    }\n",
       "</style>\n",
       "<table border=\"1\" class=\"dataframe\">\n",
       "  <thead>\n",
       "    <tr style=\"text-align: right;\">\n",
       "      <th></th>\n",
       "      <th>pay%1_bin</th>\n",
       "      <th>counts</th>\n",
       "      <th>default%</th>\n",
       "    </tr>\n",
       "  </thead>\n",
       "  <tbody>\n",
       "    <tr>\n",
       "      <th>0</th>\n",
       "      <td>(0.0, 0.05]</td>\n",
       "      <td>7437</td>\n",
       "      <td>0.205594</td>\n",
       "    </tr>\n",
       "    <tr>\n",
       "      <th>1</th>\n",
       "      <td>(0.05, 0.1]</td>\n",
       "      <td>5243</td>\n",
       "      <td>0.224299</td>\n",
       "    </tr>\n",
       "    <tr>\n",
       "      <th>2</th>\n",
       "      <td>(0.1, 0.2]</td>\n",
       "      <td>2656</td>\n",
       "      <td>0.234563</td>\n",
       "    </tr>\n",
       "    <tr>\n",
       "      <th>3</th>\n",
       "      <td>(0.2, 0.3]</td>\n",
       "      <td>916</td>\n",
       "      <td>0.222707</td>\n",
       "    </tr>\n",
       "    <tr>\n",
       "      <th>4</th>\n",
       "      <td>(0.3, 0.4]</td>\n",
       "      <td>458</td>\n",
       "      <td>0.174672</td>\n",
       "    </tr>\n",
       "    <tr>\n",
       "      <th>5</th>\n",
       "      <td>(0.4, 0.5]</td>\n",
       "      <td>306</td>\n",
       "      <td>0.163399</td>\n",
       "    </tr>\n",
       "    <tr>\n",
       "      <th>6</th>\n",
       "      <td>(0.5, 0.75]</td>\n",
       "      <td>408</td>\n",
       "      <td>0.156863</td>\n",
       "    </tr>\n",
       "    <tr>\n",
       "      <th>7</th>\n",
       "      <td>(0.75, 1.0]</td>\n",
       "      <td>4377</td>\n",
       "      <td>0.161983</td>\n",
       "    </tr>\n",
       "  </tbody>\n",
       "</table>\n",
       "</div>"
      ],
      "text/plain": [
       "     pay%1_bin  counts  default%\n",
       "0  (0.0, 0.05]    7437  0.205594\n",
       "1  (0.05, 0.1]    5243  0.224299\n",
       "2   (0.1, 0.2]    2656  0.234563\n",
       "3   (0.2, 0.3]     916  0.222707\n",
       "4   (0.3, 0.4]     458  0.174672\n",
       "5   (0.4, 0.5]     306  0.163399\n",
       "6  (0.5, 0.75]     408  0.156863\n",
       "7  (0.75, 1.0]    4377  0.161983"
      ]
     },
     "execution_count": 16,
     "metadata": {},
     "output_type": "execute_result"
    }
   ],
   "source": [
    "# create bins for age\n",
    "df['pay%_1_bin'] = pd.cut(df['pay%_1'], bins=[0, 0.05, 0.1, 0.2, 0.3, 0.4, 0.5, 0.75, 1.0])\n",
    "\n",
    "# group the data by sex and age bucket to calculate % of default contained in that bin\n",
    "pay_bin = df.groupby(['pay%_1_bin']).agg({'default':['count','mean']})\n",
    "\n",
    "\n",
    "# reset the index again for slicing and plotting data\n",
    "pay_bin.reset_index(inplace=True)\n",
    "pay_bin.columns = ['pay%1_bin','counts','default%']\n",
    "pay_bin\n",
    "\n",
    "# doesn't seem to have a relationship"
   ]
  }
 ],
 "metadata": {
  "kernelspec": {
   "display_name": "Python 3",
   "language": "python",
   "name": "python3"
  },
  "language_info": {
   "codemirror_mode": {
    "name": "ipython",
    "version": 3
   },
   "file_extension": ".py",
   "mimetype": "text/x-python",
   "name": "python",
   "nbconvert_exporter": "python",
   "pygments_lexer": "ipython3",
   "version": "3.7.3"
  }
 },
 "nbformat": 4,
 "nbformat_minor": 4
}
