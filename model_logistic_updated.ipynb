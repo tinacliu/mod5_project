{
 "cells": [
  {
   "cell_type": "markdown",
   "metadata": {},
   "source": [
    "<h3>Model - Logistic Regression</h3>"
   ]
  },
  {
   "cell_type": "code",
   "execution_count": 1,
   "metadata": {},
   "outputs": [],
   "source": [
    "import numpy as np\n",
    "import pandas as pd\n",
    "import seaborn as sns\n",
    "import matplotlib.pyplot as plt\n",
    "sns.set_style('whitegrid')\n",
    "\n",
    "from sklearn.model_selection import train_test_split\n",
    "from sklearn.linear_model import LogisticRegression\n",
    "from sklearn.metrics import accuracy_score, recall_score,precision_score,f1_score, roc_curve, auc\n",
    "from sklearn.preprocessing import MinMaxScaler\n",
    "from sklearn.model_selection import GridSearchCV\n",
    "from imblearn.over_sampling import SMOTE\n",
    "\n",
    "import cleaning\n",
    "import models\n",
    "\n",
    "%config InlineBackend.figure_format = 'retina'\n",
    "%matplotlib inline\n",
    "%load_ext autoreload\n",
    "%autoreload 2\n",
    "pd.set_option('display.max_columns', 999)"
   ]
  },
  {
   "cell_type": "code",
   "execution_count": 5,
   "metadata": {},
   "outputs": [],
   "source": [
    "# !pip install imblearn"
   ]
  },
  {
   "cell_type": "markdown",
   "metadata": {},
   "source": [
    "<h4>Model1</h4>\n",
    "\n",
    "In order to fit a logistic regression, we need to transform categorical data series to dummy data series (1 or 0). \n",
    "Here we will fit the model using the past payments data in amount rather than % so we drop the %s. We also drop the arrears data as we applied grouping to 3m arrears or later due to small sample size.\n",
    "\n",
    "We then scale the data using the MinMaxScaler before fitting the model.\n",
    "\n",
    "Note in the data we have imbalance classes of a lot more non-default data than default data, hence in the logistic regression we have put in parameter { class_weight='balanced' } to resolve for this imbalance. \n",
    "\n",
    "In terms of the evaluation metric we will focus on for our model, we have chosen recall. As the business case of a credit default model is to correctly identifying the \"bad\" customers that will default, and recall score gives out of all the actual defaulted customers, how many have our model predicted correctly. We will look at accuracy but it's worth to note that due to the high % of non-default customers (around 78%), if we build a very bad model that puts everyone as \"good\" it will still give us an high accuracy rate of 80%.\n",
    "\n",
    "We will also look at AUC (area under curve from the ROC curve), which is a performance measurement for classification problem at various thresholds settings. This tells us how much our model is capable of distinguishing between classes.\n",
    "\n",
    "In order to find the best hyperparameter we use grid search to try to improve the model result, while checking that our best model is not subject to overfitting.\n",
    "\n"
   ]
  },
  {
   "cell_type": "code",
   "execution_count": 2,
   "metadata": {},
   "outputs": [],
   "source": [
    "df = cleaning.clean_raw()"
   ]
  },
  {
   "cell_type": "code",
   "execution_count": 3,
   "metadata": {},
   "outputs": [],
   "source": [
    "# data transformation for model\n",
    "df.drop(columns=['pay_0','pay_2', 'pay_3', 'pay_4','pay_5','pay_6'], inplace=True)\n",
    "df.drop(columns=['pay%_1','pay%_2', 'pay%_3', 'pay%_4','pay%_5'], inplace=True)\n",
    "\n",
    "# we split the arrears data as it contains some -2 and -1 which we think are all paid on time or not used card\n",
    "for i in range(1,7):\n",
    "    df[f'early_{i}'] = df[f'arrears_{i}'].apply(lambda x: 1 if x <= 0 else 0)\n",
    "    df[f'late_{i}']= df[f'arrears_{i}'].apply(lambda x: x if x > 0 else 0)\n",
    "    \n",
    "df.drop(columns=['arrears_1','arrears_2', 'arrears_3', 'arrears_4','arrears_5','arrears_6'], inplace=True)\n",
    "\n",
    "arr = []\n",
    "for i in range(1,7):\n",
    "    arr.append(f'early_{i}')\n",
    "\n",
    "x_feats = ['sex', 'education', 'marriage'] + arr"
   ]
  },
  {
   "cell_type": "code",
   "execution_count": 4,
   "metadata": {},
   "outputs": [],
   "source": [
    "# get dummy variables for catagorical data and set X, y\n",
    "X = pd.get_dummies(df, columns=x_feats, drop_first=True)\n",
    "X.drop(columns=['default'], inplace=True)\n",
    "# X.drop(columns=['bill_amt2','bill_amt3','bill_amt4','bill_amt5','bill_amt6'], inplace=True)\n",
    "\n",
    "y = df['default']"
   ]
  },
  {
   "cell_type": "code",
   "execution_count": 5,
   "metadata": {},
   "outputs": [],
   "source": [
    "# train test split, test being 30% of dataset\n",
    "X_train, X_test, y_train, y_test = train_test_split(X, y, test_size=0.3, random_state=42)\n",
    "\n",
    "scaler = MinMaxScaler()\n",
    "\n",
    "# scale your X\n",
    "X_train_scale = scaler.fit_transform(X_train)\n",
    "X_test_scale = scaler.transform(X_test)\n"
   ]
  },
  {
   "cell_type": "markdown",
   "metadata": {},
   "source": [
    "<h5>Model Fitting and Results</h5>"
   ]
  },
  {
   "cell_type": "code",
   "execution_count": 6,
   "metadata": {},
   "outputs": [
    {
     "name": "stdout",
     "output_type": "stream",
     "text": [
      "Accuracy is :0.7757\n",
      "Recall is :0.562\n",
      "Precision is :0.4898\n",
      "F1 score is :0.5234\n",
      "\n",
      "AUC is :0.751\n"
     ]
    },
    {
     "data": {
      "image/png": "[encoded data removed]",
      "text/plain": [
       "<Figure size 432x288 with 1 Axes>"
      ]
     },
     "metadata": {
      "image/png": {
       "height": 276,
       "width": 383
      },
      "needs_background": "light"
     },
     "output_type": "display_data"
    }
   ],
   "source": [
    "# call function to run logistic refression model, train test split is included in function\n",
    "acc, recall, roc_auc, ftr, tpr, conf_matrix, logreg = models.log_reg(\n",
    "    X_train_scale, X_test_scale,\n",
    "    y_train, y_test,\n",
    "    0.1,'l1');"
   ]
  },
  {
   "cell_type": "code",
   "execution_count": 7,
   "metadata": {},
   "outputs": [],
   "source": [
    "# call function to get the best params for the log reg model\n",
    "best_c, best_pen, best_models = models.grid_search(X_train_scale, y_train, score = 'roc_auc', cv=3)"
   ]
  },
  {
   "cell_type": "code",
   "execution_count": 8,
   "metadata": {},
   "outputs": [
    {
     "data": {
      "text/html": [
       "<div>\n",
       "<style scoped>\n",
       "    .dataframe tbody tr th:only-of-type {\n",
       "        vertical-align: middle;\n",
       "    }\n",
       "\n",
       "    .dataframe tbody tr th {\n",
       "        vertical-align: top;\n",
       "    }\n",
       "\n",
       "    .dataframe thead th {\n",
       "        text-align: right;\n",
       "    }\n",
       "</style>\n",
       "<table border=\"1\" class=\"dataframe\">\n",
       "  <thead>\n",
       "    <tr style=\"text-align: right;\">\n",
       "      <th></th>\n",
       "      <th>mean_fit_time</th>\n",
       "      <th>std_fit_time</th>\n",
       "      <th>mean_score_time</th>\n",
       "      <th>std_score_time</th>\n",
       "      <th>param_C</th>\n",
       "      <th>param_penalty</th>\n",
       "      <th>params</th>\n",
       "      <th>split0_test_score</th>\n",
       "      <th>split1_test_score</th>\n",
       "      <th>split2_test_score</th>\n",
       "      <th>mean_test_score</th>\n",
       "      <th>std_test_score</th>\n",
       "      <th>rank_test_score</th>\n",
       "      <th>split0_train_score</th>\n",
       "      <th>split1_train_score</th>\n",
       "      <th>split2_train_score</th>\n",
       "      <th>mean_train_score</th>\n",
       "      <th>std_train_score</th>\n",
       "      <th>split0_drop</th>\n",
       "      <th>split1_drop</th>\n",
       "      <th>split2_drop</th>\n",
       "      <th>avg_drop</th>\n",
       "      <th>overfit</th>\n",
       "    </tr>\n",
       "  </thead>\n",
       "  <tbody>\n",
       "    <tr>\n",
       "      <th>38</th>\n",
       "      <td>2.030028</td>\n",
       "      <td>0.069359</td>\n",
       "      <td>0.002766</td>\n",
       "      <td>0.000098</td>\n",
       "      <td>10000</td>\n",
       "      <td>l1</td>\n",
       "      <td>{'C': 10000.0, 'penalty': 'l1'}</td>\n",
       "      <td>0.776392</td>\n",
       "      <td>0.747691</td>\n",
       "      <td>0.767802</td>\n",
       "      <td>0.763962</td>\n",
       "      <td>0.012028</td>\n",
       "      <td>1</td>\n",
       "      <td>0.761674</td>\n",
       "      <td>0.774778</td>\n",
       "      <td>0.766985</td>\n",
       "      <td>0.767812</td>\n",
       "      <td>0.005382</td>\n",
       "      <td>-0.014718</td>\n",
       "      <td>0.027087</td>\n",
       "      <td>-0.000817</td>\n",
       "      <td>0.003851</td>\n",
       "      <td>0</td>\n",
       "    </tr>\n",
       "    <tr>\n",
       "      <th>28</th>\n",
       "      <td>2.204405</td>\n",
       "      <td>0.082725</td>\n",
       "      <td>0.002759</td>\n",
       "      <td>0.000037</td>\n",
       "      <td>78.476</td>\n",
       "      <td>l1</td>\n",
       "      <td>{'C': 78.47599703514607, 'penalty': 'l1'}</td>\n",
       "      <td>0.776305</td>\n",
       "      <td>0.747727</td>\n",
       "      <td>0.767851</td>\n",
       "      <td>0.763961</td>\n",
       "      <td>0.011987</td>\n",
       "      <td>2</td>\n",
       "      <td>0.761659</td>\n",
       "      <td>0.774732</td>\n",
       "      <td>0.766949</td>\n",
       "      <td>0.767780</td>\n",
       "      <td>0.005369</td>\n",
       "      <td>-0.014647</td>\n",
       "      <td>0.027006</td>\n",
       "      <td>-0.000902</td>\n",
       "      <td>0.003819</td>\n",
       "      <td>0</td>\n",
       "    </tr>\n",
       "    <tr>\n",
       "      <th>32</th>\n",
       "      <td>2.070807</td>\n",
       "      <td>0.332574</td>\n",
       "      <td>0.002713</td>\n",
       "      <td>0.000029</td>\n",
       "      <td>545.559</td>\n",
       "      <td>l1</td>\n",
       "      <td>{'C': 545.5594781168514, 'penalty': 'l1'}</td>\n",
       "      <td>0.776370</td>\n",
       "      <td>0.747700</td>\n",
       "      <td>0.767805</td>\n",
       "      <td>0.763958</td>\n",
       "      <td>0.012016</td>\n",
       "      <td>3</td>\n",
       "      <td>0.761676</td>\n",
       "      <td>0.774764</td>\n",
       "      <td>0.766994</td>\n",
       "      <td>0.767811</td>\n",
       "      <td>0.005374</td>\n",
       "      <td>-0.014694</td>\n",
       "      <td>0.027064</td>\n",
       "      <td>-0.000811</td>\n",
       "      <td>0.003853</td>\n",
       "      <td>0</td>\n",
       "    </tr>\n",
       "    <tr>\n",
       "      <th>36</th>\n",
       "      <td>2.167303</td>\n",
       "      <td>0.159848</td>\n",
       "      <td>0.002966</td>\n",
       "      <td>0.000280</td>\n",
       "      <td>3792.69</td>\n",
       "      <td>l1</td>\n",
       "      <td>{'C': 3792.690190732246, 'penalty': 'l1'}</td>\n",
       "      <td>0.776364</td>\n",
       "      <td>0.747698</td>\n",
       "      <td>0.767799</td>\n",
       "      <td>0.763954</td>\n",
       "      <td>0.012015</td>\n",
       "      <td>4</td>\n",
       "      <td>0.761684</td>\n",
       "      <td>0.774777</td>\n",
       "      <td>0.766996</td>\n",
       "      <td>0.767819</td>\n",
       "      <td>0.005377</td>\n",
       "      <td>-0.014681</td>\n",
       "      <td>0.027079</td>\n",
       "      <td>-0.000803</td>\n",
       "      <td>0.003865</td>\n",
       "      <td>0</td>\n",
       "    </tr>\n",
       "    <tr>\n",
       "      <th>30</th>\n",
       "      <td>2.274643</td>\n",
       "      <td>0.005073</td>\n",
       "      <td>0.002749</td>\n",
       "      <td>0.000069</td>\n",
       "      <td>206.914</td>\n",
       "      <td>l1</td>\n",
       "      <td>{'C': 206.913808111479, 'penalty': 'l1'}</td>\n",
       "      <td>0.776342</td>\n",
       "      <td>0.747706</td>\n",
       "      <td>0.767811</td>\n",
       "      <td>0.763953</td>\n",
       "      <td>0.012004</td>\n",
       "      <td>5</td>\n",
       "      <td>0.761674</td>\n",
       "      <td>0.774761</td>\n",
       "      <td>0.766983</td>\n",
       "      <td>0.767806</td>\n",
       "      <td>0.005374</td>\n",
       "      <td>-0.014668</td>\n",
       "      <td>0.027054</td>\n",
       "      <td>-0.000828</td>\n",
       "      <td>0.003853</td>\n",
       "      <td>0</td>\n",
       "    </tr>\n",
       "  </tbody>\n",
       "</table>\n",
       "</div>"
      ],
      "text/plain": [
       "    mean_fit_time  std_fit_time  mean_score_time  std_score_time  param_C  \\\n",
       "38       2.030028      0.069359         0.002766        0.000098    10000   \n",
       "28       2.204405      0.082725         0.002759        0.000037   78.476   \n",
       "32       2.070807      0.332574         0.002713        0.000029  545.559   \n",
       "36       2.167303      0.159848         0.002966        0.000280  3792.69   \n",
       "30       2.274643      0.005073         0.002749        0.000069  206.914   \n",
       "\n",
       "   param_penalty                                     params  \\\n",
       "38            l1            {'C': 10000.0, 'penalty': 'l1'}   \n",
       "28            l1  {'C': 78.47599703514607, 'penalty': 'l1'}   \n",
       "32            l1  {'C': 545.5594781168514, 'penalty': 'l1'}   \n",
       "36            l1  {'C': 3792.690190732246, 'penalty': 'l1'}   \n",
       "30            l1   {'C': 206.913808111479, 'penalty': 'l1'}   \n",
       "\n",
       "    split0_test_score  split1_test_score  split2_test_score  mean_test_score  \\\n",
       "38           0.776392           0.747691           0.767802         0.763962   \n",
       "28           0.776305           0.747727           0.767851         0.763961   \n",
       "32           0.776370           0.747700           0.767805         0.763958   \n",
       "36           0.776364           0.747698           0.767799         0.763954   \n",
       "30           0.776342           0.747706           0.767811         0.763953   \n",
       "\n",
       "    std_test_score  rank_test_score  split0_train_score  split1_train_score  \\\n",
       "38        0.012028                1            0.761674            0.774778   \n",
       "28        0.011987                2            0.761659            0.774732   \n",
       "32        0.012016                3            0.761676            0.774764   \n",
       "36        0.012015                4            0.761684            0.774777   \n",
       "30        0.012004                5            0.761674            0.774761   \n",
       "\n",
       "    split2_train_score  mean_train_score  std_train_score  split0_drop  \\\n",
       "38            0.766985          0.767812         0.005382    -0.014718   \n",
       "28            0.766949          0.767780         0.005369    -0.014647   \n",
       "32            0.766994          0.767811         0.005374    -0.014694   \n",
       "36            0.766996          0.767819         0.005377    -0.014681   \n",
       "30            0.766983          0.767806         0.005374    -0.014668   \n",
       "\n",
       "    split1_drop  split2_drop  avg_drop  overfit  \n",
       "38     0.027087    -0.000817  0.003851        0  \n",
       "28     0.027006    -0.000902  0.003819        0  \n",
       "32     0.027064    -0.000811  0.003853        0  \n",
       "36     0.027079    -0.000803  0.003865        0  \n",
       "30     0.027054    -0.000828  0.003853        0  "
      ]
     },
     "execution_count": 8,
     "metadata": {},
     "output_type": "execute_result"
    }
   ],
   "source": [
    "# the best 5 models, in the last columns we check if the model is overfitting by checking the diff of train and test\n",
    "best_models.sort_values('rank_test_score').head(5)"
   ]
  },
  {
   "cell_type": "code",
   "execution_count": 9,
   "metadata": {},
   "outputs": [
    {
     "data": {
      "text/plain": [
       "(10000.0, 'l1')"
      ]
     },
     "execution_count": 9,
     "metadata": {},
     "output_type": "execute_result"
    }
   ],
   "source": [
    "round(best_c,2), best_pen"
   ]
  },
  {
   "cell_type": "code",
   "execution_count": 10,
   "metadata": {},
   "outputs": [
    {
     "name": "stdout",
     "output_type": "stream",
     "text": [
      "Accuracy is :0.7739\n",
      "Recall is :0.5691\n",
      "Precision is :0.4865\n",
      "F1 score is :0.5246\n",
      "\n",
      "AUC is :0.757\n"
     ]
    },
    {
     "data": {
      "image/png": "[encoded data removed]",
      "text/plain": [
       "<Figure size 432x288 with 1 Axes>"
      ]
     },
     "metadata": {
      "image/png": {
       "height": 276,
       "width": 383
      },
      "needs_background": "light"
     },
     "output_type": "display_data"
    }
   ],
   "source": [
    "# see the AUC based on test data with best params found before\n",
    "acc, recall, roc_auc, ftr, tpr, conf_matrix, logreg =  models.log_reg(\n",
    "    X_train_scale,X_test_scale,y_train, y_test,best_c, best_pen);"
   ]
  },
  {
   "cell_type": "code",
   "execution_count": 11,
   "metadata": {},
   "outputs": [
    {
     "data": {
      "text/html": [
       "<div>\n",
       "<style scoped>\n",
       "    .dataframe tbody tr th:only-of-type {\n",
       "        vertical-align: middle;\n",
       "    }\n",
       "\n",
       "    .dataframe tbody tr th {\n",
       "        vertical-align: top;\n",
       "    }\n",
       "\n",
       "    .dataframe thead th {\n",
       "        text-align: right;\n",
       "    }\n",
       "</style>\n",
       "<table border=\"1\" class=\"dataframe\">\n",
       "  <thead>\n",
       "    <tr style=\"text-align: right;\">\n",
       "      <th>Predicted</th>\n",
       "      <th>0</th>\n",
       "      <th>1</th>\n",
       "      <th>All</th>\n",
       "    </tr>\n",
       "    <tr>\n",
       "      <th>True</th>\n",
       "      <th></th>\n",
       "      <th></th>\n",
       "      <th></th>\n",
       "    </tr>\n",
       "  </thead>\n",
       "  <tbody>\n",
       "    <tr>\n",
       "      <th>0</th>\n",
       "      <td>5830</td>\n",
       "      <td>1182</td>\n",
       "      <td>7012</td>\n",
       "    </tr>\n",
       "    <tr>\n",
       "      <th>1</th>\n",
       "      <td>848</td>\n",
       "      <td>1120</td>\n",
       "      <td>1968</td>\n",
       "    </tr>\n",
       "    <tr>\n",
       "      <th>All</th>\n",
       "      <td>6678</td>\n",
       "      <td>2302</td>\n",
       "      <td>8980</td>\n",
       "    </tr>\n",
       "  </tbody>\n",
       "</table>\n",
       "</div>"
      ],
      "text/plain": [
       "Predicted     0     1   All\n",
       "True                       \n",
       "0          5830  1182  7012\n",
       "1           848  1120  1968\n",
       "All        6678  2302  8980"
      ]
     },
     "execution_count": 11,
     "metadata": {},
     "output_type": "execute_result"
    }
   ],
   "source": [
    "conf_matrix"
   ]
  },
  {
   "cell_type": "markdown",
   "metadata": {},
   "source": [
    "The best hyperparameter to produce the highest AUC on the training data is C = 11.28, penality = 'l1'.\n",
    "\n",
    "L1 penalise for the sum the absolute value of the coefficients, and in turn performs feature selection by producing near zero values as the coef for unimportant features. \n",
    "\n",
    "Parameter C is the the inverse of regularization strength (1/lambda), the higher the C, the lower the strength of regularization. \n",
    "\n",
    "Before we put in parameter { class_weight='balanced' } in the logistic regression model we were able to get a 0.82 accuracy, while this is high considering the imbalanced default counts in the data this is not very impressive. Also the recall score was only 0.36. In our model above we have managed to get this to 0.57 recall score."
   ]
  },
  {
   "cell_type": "markdown",
   "metadata": {},
   "source": [
    "<h4>Study the model coef</h4>\n",
    "\n",
    "Here we look to extract the coefficients from the best logistic regression model and try to interpret it."
   ]
  },
  {
   "cell_type": "code",
   "execution_count": 12,
   "metadata": {},
   "outputs": [],
   "source": [
    "# assign the coef from the best model above\n",
    "coef = logreg.coef_\n",
    "model_result = pd.DataFrame(coef.reshape(-1, len(coef)), index=X_train.columns, columns=['coef_value'])"
   ]
  },
  {
   "cell_type": "code",
   "execution_count": 13,
   "metadata": {},
   "outputs": [],
   "source": [
    "# add a column that only looks at the magnitude/affect of the coef not the direction\n",
    "model_result['coef_abs'] = model_result['coef_value'].apply(lambda x: np.abs(x))"
   ]
  },
  {
   "cell_type": "code",
   "execution_count": 14,
   "metadata": {},
   "outputs": [
    {
     "data": {
      "text/html": [
       "<div>\n",
       "<style scoped>\n",
       "    .dataframe tbody tr th:only-of-type {\n",
       "        vertical-align: middle;\n",
       "    }\n",
       "\n",
       "    .dataframe tbody tr th {\n",
       "        vertical-align: top;\n",
       "    }\n",
       "\n",
       "    .dataframe thead th {\n",
       "        text-align: right;\n",
       "    }\n",
       "</style>\n",
       "<table border=\"1\" class=\"dataframe\">\n",
       "  <thead>\n",
       "    <tr style=\"text-align: right;\">\n",
       "      <th></th>\n",
       "      <th>coef_value</th>\n",
       "      <th>coef_abs</th>\n",
       "    </tr>\n",
       "  </thead>\n",
       "  <tbody>\n",
       "    <tr>\n",
       "      <th>pay_amt2</th>\n",
       "      <td>-20.231669</td>\n",
       "      <td>20.231669</td>\n",
       "    </tr>\n",
       "    <tr>\n",
       "      <th>bill_amt3</th>\n",
       "      <td>6.147964</td>\n",
       "      <td>6.147964</td>\n",
       "    </tr>\n",
       "    <tr>\n",
       "      <th>pay_amt1</th>\n",
       "      <td>-4.697793</td>\n",
       "      <td>4.697793</td>\n",
       "    </tr>\n",
       "    <tr>\n",
       "      <th>late_1</th>\n",
       "      <td>3.102787</td>\n",
       "      <td>3.102787</td>\n",
       "    </tr>\n",
       "    <tr>\n",
       "      <th>bill_amt1</th>\n",
       "      <td>-2.805971</td>\n",
       "      <td>2.805971</td>\n",
       "    </tr>\n",
       "    <tr>\n",
       "      <th>bill_amt6</th>\n",
       "      <td>-2.163640</td>\n",
       "      <td>2.163640</td>\n",
       "    </tr>\n",
       "    <tr>\n",
       "      <th>bill_amt2</th>\n",
       "      <td>1.547165</td>\n",
       "      <td>1.547165</td>\n",
       "    </tr>\n",
       "    <tr>\n",
       "      <th>late_3</th>\n",
       "      <td>-1.282310</td>\n",
       "      <td>1.282310</td>\n",
       "    </tr>\n",
       "    <tr>\n",
       "      <th>limit_bal</th>\n",
       "      <td>-1.268517</td>\n",
       "      <td>1.268517</td>\n",
       "    </tr>\n",
       "    <tr>\n",
       "      <th>late_4</th>\n",
       "      <td>-1.266627</td>\n",
       "      <td>1.266627</td>\n",
       "    </tr>\n",
       "  </tbody>\n",
       "</table>\n",
       "</div>"
      ],
      "text/plain": [
       "           coef_value   coef_abs\n",
       "pay_amt2   -20.231669  20.231669\n",
       "bill_amt3    6.147964   6.147964\n",
       "pay_amt1    -4.697793   4.697793\n",
       "late_1       3.102787   3.102787\n",
       "bill_amt1   -2.805971   2.805971\n",
       "bill_amt6   -2.163640   2.163640\n",
       "bill_amt2    1.547165   1.547165\n",
       "late_3      -1.282310   1.282310\n",
       "limit_bal   -1.268517   1.268517\n",
       "late_4      -1.266627   1.266627"
      ]
     },
     "execution_count": 14,
     "metadata": {},
     "output_type": "execute_result"
    }
   ],
   "source": [
    "model_result.sort_values('coef_abs', ascending=False).head(10)"
   ]
  },
  {
   "cell_type": "markdown",
   "metadata": {},
   "source": [
    "It seems like payments data negatively affects the odds of default which makes sense as a bigger payment means less balanced (debt) and hence less chance to default. While a larger balance increase the odds to default.\n",
    "\n",
    "No of months in arrears at previous ago is increases the loglikelihood of default, however note the same variable 3 months ago, has the opposite effect. This could suggest relying on old payment behaviour is not relevent in predicting.\n",
    "\n",
    "Also, looking at the above result for the variables with the highest coef, its not the arrears with status 2, 3, but rather payments data, in particular recent payments data. Ituitively speaking, it would make more sense to use recent payments as a % of the outstanding balance rather than amounts. Hence we will do this for the next model to see if we can improve the model."
   ]
  },
  {
   "cell_type": "markdown",
   "metadata": {},
   "source": [
    "<h4>Model 2 - Feature Engineering: Using Payments as a % of balance rather than amount </h4>\n",
    "\n",
    "We need to do some extra data cleaning as the payments as  % of balance data contains some NaN(where balance was 0), and some inf values.\n",
    "\n",
    "We then proceed to carry out model fitting and grid search to find best hyperparameter."
   ]
  },
  {
   "cell_type": "code",
   "execution_count": 15,
   "metadata": {},
   "outputs": [],
   "source": [
    "df2 = cleaning.clean_raw()"
   ]
  },
  {
   "cell_type": "code",
   "execution_count": 16,
   "metadata": {},
   "outputs": [],
   "source": [
    "\n",
    "df2.drop(columns=['pay_0','pay_2', 'pay_3', 'pay_4','pay_5','pay_6'], inplace=True)\n",
    "df2.drop(columns=['pay_amt1','pay_amt2', 'pay_amt3', 'pay_amt4','pay_amt5'], inplace=True)\n",
    "\n",
    "# we split the arrears data as it contains some -2 and -1 which we think are all paid on time or not used card\n",
    "for i in range(1,7):\n",
    "    df2[f'early_{i}'] = df2[f'arrears_{i}'].apply(lambda x: 1 if x <= 0 else 0)\n",
    "    df2[f'late_{i}']= df2[f'arrears_{i}'].apply(lambda x: x if x > 0 else 0)\n",
    "    \n",
    "df2.drop(columns=['arrears_1','arrears_2', 'arrears_3', 'arrears_4','arrears_5','arrears_6'], inplace=True)\n",
    "\n",
    "arr = []\n",
    "for i in range(1,7):\n",
    "    arr.append(f'early_{i}')\n",
    "\n",
    "x_feats = ['sex', 'education', 'marriage'] + arr"
   ]
  },
  {
   "cell_type": "code",
   "execution_count": 17,
   "metadata": {},
   "outputs": [],
   "source": [
    "df2.replace([np.inf, -np.inf], np.nan,inplace=True)\n",
    "\n",
    "# around 3k to 4k of rows with NaN pay%_ missing as balance was zero for these\n",
    "df2.dropna(axis=0, inplace=True)"
   ]
  },
  {
   "cell_type": "code",
   "execution_count": 18,
   "metadata": {},
   "outputs": [],
   "source": [
    "X2 = pd.get_dummies(df2, columns=x_feats, drop_first=True)\n",
    "X2.drop(columns=['default'], inplace=True)\n",
    "y2 = df2['default']"
   ]
  },
  {
   "cell_type": "code",
   "execution_count": 19,
   "metadata": {},
   "outputs": [],
   "source": [
    "X2_train, X2_test, y2_train, y2_test = train_test_split(X2, y2, test_size=0.3, random_state=42)\n",
    "\n",
    "scaler = MinMaxScaler()\n",
    "\n",
    "# scale your X\n",
    "X2_train_scale = scaler.fit_transform(X2_train)\n",
    "X2_test_scale = scaler.transform(X2_test)"
   ]
  },
  {
   "cell_type": "code",
   "execution_count": 20,
   "metadata": {},
   "outputs": [
    {
     "name": "stdout",
     "output_type": "stream",
     "text": [
      "Accuracy is :0.8027\n",
      "Recall is :0.5682\n",
      "Precision is :0.5467\n",
      "F1 score is :0.5572\n",
      "\n",
      "AUC is :0.779\n"
     ]
    },
    {
     "data": {
      "image/png": "[encoded data removed]",
      "text/plain": [
       "<Figure size 432x288 with 1 Axes>"
      ]
     },
     "metadata": {
      "image/png": {
       "height": 276,
       "width": 383
      },
      "needs_background": "light"
     },
     "output_type": "display_data"
    }
   ],
   "source": [
    "# taking the best c from last model as a base\n",
    "models.log_reg(X2_train_scale,X2_test_scale,y2_train, y2_test, 0.2,'l1');"
   ]
  },
  {
   "cell_type": "code",
   "execution_count": null,
   "metadata": {},
   "outputs": [],
   "source": [
    "# call function to get the best params for the log reg model\n",
    "best_c2, best_pen2, best_clf2 = models.grid_search(X2_train_scale, y2_train, score = 'roc_auc', cv=3)"
   ]
  },
  {
   "cell_type": "code",
   "execution_count": 54,
   "metadata": {},
   "outputs": [
    {
     "data": {
      "text/plain": [
       "(0.23357214690901212, 'l1')"
      ]
     },
     "execution_count": 54,
     "metadata": {},
     "output_type": "execute_result"
    }
   ],
   "source": [
    "best_c2, best_pen2"
   ]
  },
  {
   "cell_type": "code",
   "execution_count": 55,
   "metadata": {},
   "outputs": [
    {
     "name": "stdout",
     "output_type": "stream",
     "text": [
      "Accuracy is :0.8032\n",
      "Recall is :0.5688\n",
      "Precision is :0.5476\n",
      "F1 score is :0.558\n",
      "\n",
      "AUC is :0.781\n"
     ]
    },
    {
     "data": {
      "image/png": "[encoded data removed]",
      "text/plain": [
       "<Figure size 432x288 with 1 Axes>"
      ]
     },
     "metadata": {
      "image/png": {
       "height": 276,
       "width": 383
      },
      "needs_background": "light"
     },
     "output_type": "display_data"
    }
   ],
   "source": [
    "# See the Performance of the final model using test dataset\n",
    "acc, recall, roc_auc, ftr, tpr, conf_matrix, logreg = models.log_reg(\n",
    "    X2_train_scale,X2_test_scale,y2_train, y2_test,best_c2,best_pen2);"
   ]
  },
  {
   "cell_type": "markdown",
   "metadata": {},
   "source": [
    "Our final model with the feature engineering have produced a recall of 56.8%, accuracy of 80.1% and AUC of 78.4%\n"
   ]
  },
  {
   "cell_type": "code",
   "execution_count": 56,
   "metadata": {},
   "outputs": [],
   "source": [
    "# assign the coef from the best model above\n",
    "coef = logreg.coef_\n",
    "model_result = pd.DataFrame(coef.reshape(-1, len(coef)), index=X2_train.columns, columns=['coef_value'])\n",
    "\n",
    "# add a column that only looks at the magnitude/affect of the coef not the direction\n",
    "model_result['coef_abs'] = model_result['coef_value'].apply(lambda x: np.abs(x))"
   ]
  },
  {
   "cell_type": "code",
   "execution_count": 57,
   "metadata": {},
   "outputs": [
    {
     "data": {
      "text/html": [
       "<div>\n",
       "<style scoped>\n",
       "    .dataframe tbody tr th:only-of-type {\n",
       "        vertical-align: middle;\n",
       "    }\n",
       "\n",
       "    .dataframe tbody tr th {\n",
       "        vertical-align: top;\n",
       "    }\n",
       "\n",
       "    .dataframe thead th {\n",
       "        text-align: right;\n",
       "    }\n",
       "</style>\n",
       "<table border=\"1\" class=\"dataframe\">\n",
       "  <thead>\n",
       "    <tr style=\"text-align: right;\">\n",
       "      <th></th>\n",
       "      <th>coef_value</th>\n",
       "      <th>coef_abs</th>\n",
       "    </tr>\n",
       "  </thead>\n",
       "  <tbody>\n",
       "    <tr>\n",
       "      <th>late_1</th>\n",
       "      <td>2.807448</td>\n",
       "      <td>2.807448</td>\n",
       "    </tr>\n",
       "    <tr>\n",
       "      <th>limit_bal</th>\n",
       "      <td>-2.404003</td>\n",
       "      <td>2.404003</td>\n",
       "    </tr>\n",
       "    <tr>\n",
       "      <th>bill_amt1</th>\n",
       "      <td>1.082769</td>\n",
       "      <td>1.082769</td>\n",
       "    </tr>\n",
       "    <tr>\n",
       "      <th>education_4</th>\n",
       "      <td>-0.975203</td>\n",
       "      <td>0.975203</td>\n",
       "    </tr>\n",
       "    <tr>\n",
       "      <th>late_6</th>\n",
       "      <td>0.620852</td>\n",
       "      <td>0.620852</td>\n",
       "    </tr>\n",
       "    <tr>\n",
       "      <th>pay%_3</th>\n",
       "      <td>0.398038</td>\n",
       "      <td>0.398038</td>\n",
       "    </tr>\n",
       "    <tr>\n",
       "      <th>early_4_1</th>\n",
       "      <td>-0.357048</td>\n",
       "      <td>0.357048</td>\n",
       "    </tr>\n",
       "    <tr>\n",
       "      <th>early_3_1</th>\n",
       "      <td>-0.306904</td>\n",
       "      <td>0.306904</td>\n",
       "    </tr>\n",
       "    <tr>\n",
       "      <th>arrears_6</th>\n",
       "      <td>-0.260189</td>\n",
       "      <td>0.260189</td>\n",
       "    </tr>\n",
       "    <tr>\n",
       "      <th>early_5_1</th>\n",
       "      <td>-0.258538</td>\n",
       "      <td>0.258538</td>\n",
       "    </tr>\n",
       "  </tbody>\n",
       "</table>\n",
       "</div>"
      ],
      "text/plain": [
       "             coef_value  coef_abs\n",
       "late_1         2.807448  2.807448\n",
       "limit_bal     -2.404003  2.404003\n",
       "bill_amt1      1.082769  1.082769\n",
       "education_4   -0.975203  0.975203\n",
       "late_6         0.620852  0.620852\n",
       "pay%_3         0.398038  0.398038\n",
       "early_4_1     -0.357048  0.357048\n",
       "early_3_1     -0.306904  0.306904\n",
       "arrears_6     -0.260189  0.260189\n",
       "early_5_1     -0.258538  0.258538"
      ]
     },
     "execution_count": 57,
     "metadata": {},
     "output_type": "execute_result"
    }
   ],
   "source": [
    "model_result.sort_values('coef_abs', ascending=False).head(10)"
   ]
  },
  {
   "cell_type": "code",
   "execution_count": 58,
   "metadata": {},
   "outputs": [
    {
     "data": {
      "text/html": [
       "<div>\n",
       "<style scoped>\n",
       "    .dataframe tbody tr th:only-of-type {\n",
       "        vertical-align: middle;\n",
       "    }\n",
       "\n",
       "    .dataframe tbody tr th {\n",
       "        vertical-align: top;\n",
       "    }\n",
       "\n",
       "    .dataframe thead th {\n",
       "        text-align: right;\n",
       "    }\n",
       "</style>\n",
       "<table border=\"1\" class=\"dataframe\">\n",
       "  <thead>\n",
       "    <tr style=\"text-align: right;\">\n",
       "      <th></th>\n",
       "      <th>limit_bal</th>\n",
       "      <th>age</th>\n",
       "      <th>bill_amt1</th>\n",
       "      <th>bill_amt2</th>\n",
       "      <th>bill_amt3</th>\n",
       "      <th>bill_amt4</th>\n",
       "      <th>bill_amt5</th>\n",
       "      <th>bill_amt6</th>\n",
       "      <th>pay_amt6</th>\n",
       "      <th>pay%_1</th>\n",
       "      <th>pay%_2</th>\n",
       "      <th>pay%_3</th>\n",
       "      <th>pay%_4</th>\n",
       "      <th>pay%_5</th>\n",
       "      <th>arrears_6</th>\n",
       "      <th>late_1</th>\n",
       "      <th>late_2</th>\n",
       "      <th>late_3</th>\n",
       "      <th>late_4</th>\n",
       "      <th>late_5</th>\n",
       "      <th>late_6</th>\n",
       "      <th>sex_2</th>\n",
       "      <th>education_2</th>\n",
       "      <th>education_3</th>\n",
       "      <th>education_4</th>\n",
       "      <th>marriage_2</th>\n",
       "      <th>marriage_3</th>\n",
       "      <th>early_1_1</th>\n",
       "      <th>early_2_1</th>\n",
       "      <th>early_3_1</th>\n",
       "      <th>early_4_1</th>\n",
       "      <th>early_5_1</th>\n",
       "      <th>early_6_1</th>\n",
       "    </tr>\n",
       "    <tr>\n",
       "      <th>ID</th>\n",
       "      <th></th>\n",
       "      <th></th>\n",
       "      <th></th>\n",
       "      <th></th>\n",
       "      <th></th>\n",
       "      <th></th>\n",
       "      <th></th>\n",
       "      <th></th>\n",
       "      <th></th>\n",
       "      <th></th>\n",
       "      <th></th>\n",
       "      <th></th>\n",
       "      <th></th>\n",
       "      <th></th>\n",
       "      <th></th>\n",
       "      <th></th>\n",
       "      <th></th>\n",
       "      <th></th>\n",
       "      <th></th>\n",
       "      <th></th>\n",
       "      <th></th>\n",
       "      <th></th>\n",
       "      <th></th>\n",
       "      <th></th>\n",
       "      <th></th>\n",
       "      <th></th>\n",
       "      <th></th>\n",
       "      <th></th>\n",
       "      <th></th>\n",
       "      <th></th>\n",
       "      <th></th>\n",
       "      <th></th>\n",
       "      <th></th>\n",
       "    </tr>\n",
       "  </thead>\n",
       "  <tbody>\n",
       "    <tr>\n",
       "      <th>26660</th>\n",
       "      <td>50000</td>\n",
       "      <td>25</td>\n",
       "      <td>47077</td>\n",
       "      <td>48872</td>\n",
       "      <td>16012</td>\n",
       "      <td>14228</td>\n",
       "      <td>19546</td>\n",
       "      <td>19473</td>\n",
       "      <td>798</td>\n",
       "      <td>0.057293</td>\n",
       "      <td>0.000000</td>\n",
       "      <td>0.115547</td>\n",
       "      <td>3.272537</td>\n",
       "      <td>0.036204</td>\n",
       "      <td>-1</td>\n",
       "      <td>0</td>\n",
       "      <td>0</td>\n",
       "      <td>2</td>\n",
       "      <td>2</td>\n",
       "      <td>0</td>\n",
       "      <td>0</td>\n",
       "      <td>0</td>\n",
       "      <td>1</td>\n",
       "      <td>0</td>\n",
       "      <td>0</td>\n",
       "      <td>1</td>\n",
       "      <td>0</td>\n",
       "      <td>1</td>\n",
       "      <td>1</td>\n",
       "      <td>0</td>\n",
       "      <td>0</td>\n",
       "      <td>1</td>\n",
       "      <td>1</td>\n",
       "    </tr>\n",
       "    <tr>\n",
       "      <th>15427</th>\n",
       "      <td>60000</td>\n",
       "      <td>38</td>\n",
       "      <td>57775</td>\n",
       "      <td>51280</td>\n",
       "      <td>16299</td>\n",
       "      <td>-41</td>\n",
       "      <td>-41</td>\n",
       "      <td>-41</td>\n",
       "      <td>17500</td>\n",
       "      <td>0.039002</td>\n",
       "      <td>0.063992</td>\n",
       "      <td>-0.000000</td>\n",
       "      <td>-0.000000</td>\n",
       "      <td>-0.000000</td>\n",
       "      <td>-2</td>\n",
       "      <td>0</td>\n",
       "      <td>0</td>\n",
       "      <td>0</td>\n",
       "      <td>0</td>\n",
       "      <td>0</td>\n",
       "      <td>0</td>\n",
       "      <td>0</td>\n",
       "      <td>1</td>\n",
       "      <td>0</td>\n",
       "      <td>0</td>\n",
       "      <td>1</td>\n",
       "      <td>0</td>\n",
       "      <td>1</td>\n",
       "      <td>1</td>\n",
       "      <td>1</td>\n",
       "      <td>1</td>\n",
       "      <td>1</td>\n",
       "      <td>1</td>\n",
       "    </tr>\n",
       "    <tr>\n",
       "      <th>18966</th>\n",
       "      <td>420000</td>\n",
       "      <td>29</td>\n",
       "      <td>392</td>\n",
       "      <td>396</td>\n",
       "      <td>47581</td>\n",
       "      <td>48070</td>\n",
       "      <td>47523</td>\n",
       "      <td>45834</td>\n",
       "      <td>2000</td>\n",
       "      <td>1.010101</td>\n",
       "      <td>1.000000</td>\n",
       "      <td>0.035677</td>\n",
       "      <td>0.035772</td>\n",
       "      <td>0.040363</td>\n",
       "      <td>0</td>\n",
       "      <td>0</td>\n",
       "      <td>0</td>\n",
       "      <td>0</td>\n",
       "      <td>0</td>\n",
       "      <td>0</td>\n",
       "      <td>0</td>\n",
       "      <td>1</td>\n",
       "      <td>0</td>\n",
       "      <td>0</td>\n",
       "      <td>0</td>\n",
       "      <td>1</td>\n",
       "      <td>0</td>\n",
       "      <td>1</td>\n",
       "      <td>1</td>\n",
       "      <td>1</td>\n",
       "      <td>1</td>\n",
       "      <td>1</td>\n",
       "      <td>1</td>\n",
       "    </tr>\n",
       "    <tr>\n",
       "      <th>534</th>\n",
       "      <td>100000</td>\n",
       "      <td>50</td>\n",
       "      <td>53849</td>\n",
       "      <td>55030</td>\n",
       "      <td>61574</td>\n",
       "      <td>62470</td>\n",
       "      <td>61198</td>\n",
       "      <td>62524</td>\n",
       "      <td>2500</td>\n",
       "      <td>0.037252</td>\n",
       "      <td>0.121805</td>\n",
       "      <td>0.040019</td>\n",
       "      <td>0.000000</td>\n",
       "      <td>0.039985</td>\n",
       "      <td>2</td>\n",
       "      <td>2</td>\n",
       "      <td>0</td>\n",
       "      <td>0</td>\n",
       "      <td>3</td>\n",
       "      <td>3</td>\n",
       "      <td>2</td>\n",
       "      <td>1</td>\n",
       "      <td>0</td>\n",
       "      <td>1</td>\n",
       "      <td>0</td>\n",
       "      <td>0</td>\n",
       "      <td>0</td>\n",
       "      <td>0</td>\n",
       "      <td>1</td>\n",
       "      <td>1</td>\n",
       "      <td>0</td>\n",
       "      <td>0</td>\n",
       "      <td>0</td>\n",
       "    </tr>\n",
       "    <tr>\n",
       "      <th>28690</th>\n",
       "      <td>170000</td>\n",
       "      <td>31</td>\n",
       "      <td>0</td>\n",
       "      <td>427</td>\n",
       "      <td>427</td>\n",
       "      <td>23321</td>\n",
       "      <td>23475</td>\n",
       "      <td>25218</td>\n",
       "      <td>0</td>\n",
       "      <td>1.000000</td>\n",
       "      <td>0.000000</td>\n",
       "      <td>1.007675</td>\n",
       "      <td>0.035783</td>\n",
       "      <td>0.084107</td>\n",
       "      <td>0</td>\n",
       "      <td>1</td>\n",
       "      <td>0</td>\n",
       "      <td>2</td>\n",
       "      <td>0</td>\n",
       "      <td>0</td>\n",
       "      <td>0</td>\n",
       "      <td>1</td>\n",
       "      <td>1</td>\n",
       "      <td>0</td>\n",
       "      <td>0</td>\n",
       "      <td>0</td>\n",
       "      <td>0</td>\n",
       "      <td>0</td>\n",
       "      <td>1</td>\n",
       "      <td>0</td>\n",
       "      <td>1</td>\n",
       "      <td>1</td>\n",
       "      <td>1</td>\n",
       "    </tr>\n",
       "  </tbody>\n",
       "</table>\n",
       "</div>"
      ],
      "text/plain": [
       "       limit_bal  age  bill_amt1  bill_amt2  bill_amt3  bill_amt4  bill_amt5  \\\n",
       "ID                                                                             \n",
       "26660      50000   25      47077      48872      16012      14228      19546   \n",
       "15427      60000   38      57775      51280      16299        -41        -41   \n",
       "18966     420000   29        392        396      47581      48070      47523   \n",
       "534       100000   50      53849      55030      61574      62470      61198   \n",
       "28690     170000   31          0        427        427      23321      23475   \n",
       "\n",
       "       bill_amt6  pay_amt6    pay%_1    pay%_2    pay%_3    pay%_4    pay%_5  \\\n",
       "ID                                                                             \n",
       "26660      19473       798  0.057293  0.000000  0.115547  3.272537  0.036204   \n",
       "15427        -41     17500  0.039002  0.063992 -0.000000 -0.000000 -0.000000   \n",
       "18966      45834      2000  1.010101  1.000000  0.035677  0.035772  0.040363   \n",
       "534        62524      2500  0.037252  0.121805  0.040019  0.000000  0.039985   \n",
       "28690      25218         0  1.000000  0.000000  1.007675  0.035783  0.084107   \n",
       "\n",
       "       arrears_6  late_1  late_2  late_3  late_4  late_5  late_6  sex_2  \\\n",
       "ID                                                                        \n",
       "26660         -1       0       0       2       2       0       0      0   \n",
       "15427         -2       0       0       0       0       0       0      0   \n",
       "18966          0       0       0       0       0       0       0      1   \n",
       "534            2       2       0       0       3       3       2      1   \n",
       "28690          0       1       0       2       0       0       0      1   \n",
       "\n",
       "       education_2  education_3  education_4  marriage_2  marriage_3  \\\n",
       "ID                                                                     \n",
       "26660            1            0            0           1           0   \n",
       "15427            1            0            0           1           0   \n",
       "18966            0            0            0           1           0   \n",
       "534              0            1            0           0           0   \n",
       "28690            1            0            0           0           0   \n",
       "\n",
       "       early_1_1  early_2_1  early_3_1  early_4_1  early_5_1  early_6_1  \n",
       "ID                                                                       \n",
       "26660          1          1          0          0          1          1  \n",
       "15427          1          1          1          1          1          1  \n",
       "18966          1          1          1          1          1          1  \n",
       "534            0          1          1          0          0          0  \n",
       "28690          0          1          0          1          1          1  "
      ]
     },
     "execution_count": 58,
     "metadata": {},
     "output_type": "execute_result"
    }
   ],
   "source": [
    "X2_train.head()"
   ]
  }
 ],
 "metadata": {
  "kernelspec": {
   "display_name": "Python 3",
   "language": "python",
   "name": "python3"
  },
  "language_info": {
   "codemirror_mode": {
    "name": "ipython",
    "version": 3
   },
   "file_extension": ".py",
   "mimetype": "text/x-python",
   "name": "python",
   "nbconvert_exporter": "python",
   "pygments_lexer": "ipython3",
   "version": "3.7.3"
  }
 },
 "nbformat": 4,
 "nbformat_minor": 4
}
