{
 "cells": [
  {
   "cell_type": "markdown",
   "metadata": {},
   "source": [
    "<h3>Model - Logistic Regression</h3>"
   ]
  },
  {
   "cell_type": "code",
   "execution_count": 1,
   "metadata": {},
   "outputs": [],
   "source": [
    "import numpy as np\n",
    "import pandas as pd\n",
    "import seaborn as sns\n",
    "import matplotlib.pyplot as plt\n",
    "sns.set_style('whitegrid')\n",
    "\n",
    "from sklearn.model_selection import train_test_split\n",
    "from sklearn.linear_model import LogisticRegression\n",
    "from sklearn.metrics import accuracy_score, recall_score,precision_score,f1_score, roc_curve, auc\n",
    "from sklearn.preprocessing import MinMaxScaler\n",
    "from sklearn.model_selection import GridSearchCV\n",
    "from imblearn.over_sampling import SMOTE\n",
    "\n",
    "import cleaning\n",
    "import models\n",
    "\n",
    "%config InlineBackend.figure_format = 'retina'\n",
    "%matplotlib inline\n",
    "%load_ext autoreload\n",
    "%autoreload 2\n",
    "pd.set_option('display.max_columns', 999)"
   ]
  },
  {
   "cell_type": "code",
   "execution_count": 5,
   "metadata": {},
   "outputs": [],
   "source": [
    "# !pip install imblearn"
   ]
  },
  {
   "cell_type": "markdown",
   "metadata": {},
   "source": [
    "<h4>Model1</h4>\n",
    "\n",
    "In order to fit a logistic regression, we need to transform categorical data series to dummy data series (1 or 0). \n",
    "Here we will fit the model using the past payments data in amount rather than % so we drop the %s. We also drop the arrears data as we applied grouping to 3m arrears or later due to small sample size.\n",
    "\n",
    "We then scale the data using the MinMaxScaler before fitting the model.\n",
    "\n",
    "Note in the data we have imbalance classes of a lot more non-default data than default data, hence in the logistic regression we have put in parameter { class_weight='balanced' } to resolve for this imbalance. \n",
    "\n",
    "In terms of the evaluation metric we will focus on for our model, we have chosen recall. As the business case of a credit default model is to correctly identifying the \"bad\" customers that will default, and recall score gives out of all the actual defaulted customers, how many have our model predicted correctly. We will look at accuracy but it's worth to note that due to the high % of non-default customers (around 78%), if we build a very bad model that puts everyone as \"good\" it will still give us an high accuracy rate of 80%.\n",
    "\n",
    "We will also look at AUC (area under curve from the ROC curve), which is a performance measurement for classification problem at various thresholds settings. This tells us how much our model is capable of distinguishing between classes.\n",
    "\n",
    "In order to find the best hyperparameter we use grid search to try to improve the model result, while checking that our best model is not subject to overfitting.\n",
    "\n"
   ]
  },
  {
   "cell_type": "code",
   "execution_count": 2,
   "metadata": {},
   "outputs": [],
   "source": [
    "df = cleaning.clean_raw()"
   ]
  },
  {
   "cell_type": "code",
   "execution_count": 3,
   "metadata": {},
   "outputs": [],
   "source": [
    "# data transformation for model\n",
    "df.drop(columns=['pay_0','pay_2', 'pay_3', 'pay_4','pay_5','pay_6'], inplace=True)\n",
    "df.drop(columns=['pay%_1','pay%_2', 'pay%_3', 'pay%_4','pay%_5'], inplace=True)\n",
    "\n",
    "# we split the arrears data as it contains some -2 and -1 which we think are all paid on time or not used card\n",
    "for i in range(1,7):\n",
    "    df[f'early_{i}'] = df[f'arrears_{i}'].apply(lambda x: 1 if x <= 0 else 0)\n",
    "    df[f'late_{i}']= df[f'arrears_{i}'].apply(lambda x: x if x > 0 else 0)\n",
    "\n",
    "arr = []\n",
    "for i in range(1,7):\n",
    "    arr.append(f'early_{i}')\n",
    "\n",
    "x_feats = ['sex', 'education', 'marriage'] + arr"
   ]
  },
  {
   "cell_type": "code",
   "execution_count": 4,
   "metadata": {},
   "outputs": [],
   "source": [
    "# get dummy variables for catagorical data and set X, y\n",
    "X = pd.get_dummies(df, columns=x_feats, drop_first=True)\n",
    "X.drop(columns=['default'], inplace=True)\n",
    "# X.drop(columns=['bill_amt2','bill_amt3','bill_amt4','bill_amt5','bill_amt6'], inplace=True)\n",
    "\n",
    "y = df['default']"
   ]
  },
  {
   "cell_type": "code",
   "execution_count": 6,
   "metadata": {},
   "outputs": [],
   "source": [
    "# train test split, test being 30% of dataset\n",
    "X_train, X_test, y_train, y_test = train_test_split(X, y, test_size=0.3, random_state=42)\n",
    "\n",
    "scaler = MinMaxScaler()\n",
    "\n",
    "# scale your X\n",
    "X_train_scale = scaler.fit_transform(X_train)\n",
    "X_test_scale = scaler.transform(X_test)\n"
   ]
  },
  {
   "cell_type": "code",
   "execution_count": 7,
   "metadata": {},
   "outputs": [],
   "source": [
    "# # calling SMOTE, statistical technique for increasing the number of cases in the dataset in a balanced way\n",
    "# sm = SMOTE(random_state = 2)\n",
    "# X_train_res, y_train_res = sm.fit_sample(X_train_scale, y_train.ravel())"
   ]
  },
  {
   "cell_type": "markdown",
   "metadata": {},
   "source": [
    "<h5>Model Fitting and Results</h5>"
   ]
  },
  {
   "cell_type": "code",
   "execution_count": 8,
   "metadata": {},
   "outputs": [
    {
     "name": "stdout",
     "output_type": "stream",
     "text": [
      "Accuracy is :0.7718\n",
      "Recall is :0.561\n",
      "\n",
      "AUC is :0.755\n"
     ]
    },
    {
     "data": {
      "image/png": "[encoded data removed]",
      "text/plain": [
       "<Figure size 432x288 with 1 Axes>"
      ]
     },
     "metadata": {
      "image/png": {
       "height": 276,
       "width": 383
      },
      "needs_background": "light"
     },
     "output_type": "display_data"
    }
   ],
   "source": [
    "# call function to run logistic refression model, train test split is included in function\n",
    "acc, recall, roc_auc, ftr, tpr, conf_matrix, logreg = models.log_reg(\n",
    "    X_train_res, X_test_scale,\n",
    "    y_train_res, y_test,\n",
    "    0.1,'l1');"
   ]
  },
  {
   "cell_type": "code",
   "execution_count": 24,
   "metadata": {},
   "outputs": [],
   "source": [
    "# call function to get the best params for the log reg model\n",
    "best_c, best_pen, best_models = models.grid_search(X_train_scale, y_train, score = 'recall', cv=3)"
   ]
  },
  {
   "cell_type": "code",
   "execution_count": 25,
   "metadata": {},
   "outputs": [
    {
     "data": {
      "text/html": [
       "<div>\n",
       "<style scoped>\n",
       "    .dataframe tbody tr th:only-of-type {\n",
       "        vertical-align: middle;\n",
       "    }\n",
       "\n",
       "    .dataframe tbody tr th {\n",
       "        vertical-align: top;\n",
       "    }\n",
       "\n",
       "    .dataframe thead th {\n",
       "        text-align: right;\n",
       "    }\n",
       "</style>\n",
       "<table border=\"1\" class=\"dataframe\">\n",
       "  <thead>\n",
       "    <tr style=\"text-align: right;\">\n",
       "      <th></th>\n",
       "      <th>mean_fit_time</th>\n",
       "      <th>std_fit_time</th>\n",
       "      <th>mean_score_time</th>\n",
       "      <th>std_score_time</th>\n",
       "      <th>param_C</th>\n",
       "      <th>param_penalty</th>\n",
       "      <th>params</th>\n",
       "      <th>split0_test_score</th>\n",
       "      <th>split1_test_score</th>\n",
       "      <th>split2_test_score</th>\n",
       "      <th>mean_test_score</th>\n",
       "      <th>std_test_score</th>\n",
       "      <th>rank_test_score</th>\n",
       "      <th>split0_train_score</th>\n",
       "      <th>split1_train_score</th>\n",
       "      <th>split2_train_score</th>\n",
       "      <th>mean_train_score</th>\n",
       "      <th>std_train_score</th>\n",
       "      <th>split0_drop</th>\n",
       "      <th>split1_drop</th>\n",
       "      <th>split2_drop</th>\n",
       "      <th>avg_drop</th>\n",
       "      <th>overfit</th>\n",
       "    </tr>\n",
       "  </thead>\n",
       "  <tbody>\n",
       "    <tr>\n",
       "      <th>24</th>\n",
       "      <td>2.606169</td>\n",
       "      <td>0.146462</td>\n",
       "      <td>0.002687</td>\n",
       "      <td>0.000129</td>\n",
       "      <td>11.2884</td>\n",
       "      <td>l1</td>\n",
       "      <td>{'C': 11.288378916846883, 'penalty': 'l1'}</td>\n",
       "      <td>0.380952</td>\n",
       "      <td>0.348777</td>\n",
       "      <td>0.353698</td>\n",
       "      <td>0.361142</td>\n",
       "      <td>0.014151</td>\n",
       "      <td>1</td>\n",
       "      <td>0.346092</td>\n",
       "      <td>0.367321</td>\n",
       "      <td>0.370978</td>\n",
       "      <td>0.361464</td>\n",
       "      <td>0.010971</td>\n",
       "      <td>-0.034860</td>\n",
       "      <td>0.018543</td>\n",
       "      <td>0.017280</td>\n",
       "      <td>0.000321</td>\n",
       "      <td>0</td>\n",
       "    </tr>\n",
       "    <tr>\n",
       "      <th>29</th>\n",
       "      <td>0.303139</td>\n",
       "      <td>0.019914</td>\n",
       "      <td>0.002819</td>\n",
       "      <td>0.000313</td>\n",
       "      <td>78.476</td>\n",
       "      <td>l2</td>\n",
       "      <td>{'C': 78.47599703514607, 'penalty': 'l2'}</td>\n",
       "      <td>0.380309</td>\n",
       "      <td>0.349421</td>\n",
       "      <td>0.353055</td>\n",
       "      <td>0.360928</td>\n",
       "      <td>0.013784</td>\n",
       "      <td>2</td>\n",
       "      <td>0.346092</td>\n",
       "      <td>0.367964</td>\n",
       "      <td>0.370978</td>\n",
       "      <td>0.361678</td>\n",
       "      <td>0.011089</td>\n",
       "      <td>-0.034217</td>\n",
       "      <td>0.018543</td>\n",
       "      <td>0.017923</td>\n",
       "      <td>0.000750</td>\n",
       "      <td>0</td>\n",
       "    </tr>\n",
       "    <tr>\n",
       "      <th>28</th>\n",
       "      <td>2.867873</td>\n",
       "      <td>0.140357</td>\n",
       "      <td>0.003368</td>\n",
       "      <td>0.000968</td>\n",
       "      <td>78.476</td>\n",
       "      <td>l1</td>\n",
       "      <td>{'C': 78.47599703514607, 'penalty': 'l1'}</td>\n",
       "      <td>0.380309</td>\n",
       "      <td>0.349421</td>\n",
       "      <td>0.352412</td>\n",
       "      <td>0.360714</td>\n",
       "      <td>0.013910</td>\n",
       "      <td>3</td>\n",
       "      <td>0.346092</td>\n",
       "      <td>0.366999</td>\n",
       "      <td>0.371943</td>\n",
       "      <td>0.361678</td>\n",
       "      <td>0.011204</td>\n",
       "      <td>-0.034217</td>\n",
       "      <td>0.017578</td>\n",
       "      <td>0.019532</td>\n",
       "      <td>0.000964</td>\n",
       "      <td>0</td>\n",
       "    </tr>\n",
       "    <tr>\n",
       "      <th>35</th>\n",
       "      <td>0.385323</td>\n",
       "      <td>0.075858</td>\n",
       "      <td>0.002973</td>\n",
       "      <td>0.000524</td>\n",
       "      <td>1438.45</td>\n",
       "      <td>l2</td>\n",
       "      <td>{'C': 1438.44988828766, 'penalty': 'l2'}</td>\n",
       "      <td>0.380309</td>\n",
       "      <td>0.349421</td>\n",
       "      <td>0.352412</td>\n",
       "      <td>0.360714</td>\n",
       "      <td>0.013910</td>\n",
       "      <td>3</td>\n",
       "      <td>0.346414</td>\n",
       "      <td>0.366999</td>\n",
       "      <td>0.371943</td>\n",
       "      <td>0.361785</td>\n",
       "      <td>0.011055</td>\n",
       "      <td>-0.033895</td>\n",
       "      <td>0.017578</td>\n",
       "      <td>0.019532</td>\n",
       "      <td>0.001072</td>\n",
       "      <td>0</td>\n",
       "    </tr>\n",
       "    <tr>\n",
       "      <th>20</th>\n",
       "      <td>1.419424</td>\n",
       "      <td>0.059215</td>\n",
       "      <td>0.002620</td>\n",
       "      <td>0.000041</td>\n",
       "      <td>1.62378</td>\n",
       "      <td>l1</td>\n",
       "      <td>{'C': 1.623776739188721, 'penalty': 'l1'}</td>\n",
       "      <td>0.379022</td>\n",
       "      <td>0.346847</td>\n",
       "      <td>0.356270</td>\n",
       "      <td>0.360713</td>\n",
       "      <td>0.013506</td>\n",
       "      <td>5</td>\n",
       "      <td>0.346735</td>\n",
       "      <td>0.366356</td>\n",
       "      <td>0.369691</td>\n",
       "      <td>0.360927</td>\n",
       "      <td>0.010127</td>\n",
       "      <td>-0.032287</td>\n",
       "      <td>0.019509</td>\n",
       "      <td>0.013421</td>\n",
       "      <td>0.000214</td>\n",
       "      <td>0</td>\n",
       "    </tr>\n",
       "  </tbody>\n",
       "</table>\n",
       "</div>"
      ],
      "text/plain": [
       "    mean_fit_time  std_fit_time  mean_score_time  std_score_time  param_C  \\\n",
       "24       2.606169      0.146462         0.002687        0.000129  11.2884   \n",
       "29       0.303139      0.019914         0.002819        0.000313   78.476   \n",
       "28       2.867873      0.140357         0.003368        0.000968   78.476   \n",
       "35       0.385323      0.075858         0.002973        0.000524  1438.45   \n",
       "20       1.419424      0.059215         0.002620        0.000041  1.62378   \n",
       "\n",
       "   param_penalty                                      params  \\\n",
       "24            l1  {'C': 11.288378916846883, 'penalty': 'l1'}   \n",
       "29            l2   {'C': 78.47599703514607, 'penalty': 'l2'}   \n",
       "28            l1   {'C': 78.47599703514607, 'penalty': 'l1'}   \n",
       "35            l2    {'C': 1438.44988828766, 'penalty': 'l2'}   \n",
       "20            l1   {'C': 1.623776739188721, 'penalty': 'l1'}   \n",
       "\n",
       "    split0_test_score  split1_test_score  split2_test_score  mean_test_score  \\\n",
       "24           0.380952           0.348777           0.353698         0.361142   \n",
       "29           0.380309           0.349421           0.353055         0.360928   \n",
       "28           0.380309           0.349421           0.352412         0.360714   \n",
       "35           0.380309           0.349421           0.352412         0.360714   \n",
       "20           0.379022           0.346847           0.356270         0.360713   \n",
       "\n",
       "    std_test_score  rank_test_score  split0_train_score  split1_train_score  \\\n",
       "24        0.014151                1            0.346092            0.367321   \n",
       "29        0.013784                2            0.346092            0.367964   \n",
       "28        0.013910                3            0.346092            0.366999   \n",
       "35        0.013910                3            0.346414            0.366999   \n",
       "20        0.013506                5            0.346735            0.366356   \n",
       "\n",
       "    split2_train_score  mean_train_score  std_train_score  split0_drop  \\\n",
       "24            0.370978          0.361464         0.010971    -0.034860   \n",
       "29            0.370978          0.361678         0.011089    -0.034217   \n",
       "28            0.371943          0.361678         0.011204    -0.034217   \n",
       "35            0.371943          0.361785         0.011055    -0.033895   \n",
       "20            0.369691          0.360927         0.010127    -0.032287   \n",
       "\n",
       "    split1_drop  split2_drop  avg_drop  overfit  \n",
       "24     0.018543     0.017280  0.000321        0  \n",
       "29     0.018543     0.017923  0.000750        0  \n",
       "28     0.017578     0.019532  0.000964        0  \n",
       "35     0.017578     0.019532  0.001072        0  \n",
       "20     0.019509     0.013421  0.000214        0  "
      ]
     },
     "execution_count": 25,
     "metadata": {},
     "output_type": "execute_result"
    }
   ],
   "source": [
    "# the best 5 models, in the last columns we check if the model is overfitting by checking the diff of train and test\n",
    "best_models.sort_values('rank_test_score').head(5)"
   ]
  },
  {
   "cell_type": "code",
   "execution_count": 28,
   "metadata": {},
   "outputs": [
    {
     "data": {
      "text/plain": [
       "(11.29, 'l1')"
      ]
     },
     "execution_count": 28,
     "metadata": {},
     "output_type": "execute_result"
    }
   ],
   "source": [
    "round(best_c,2), best_pen"
   ]
  },
  {
   "cell_type": "code",
   "execution_count": 30,
   "metadata": {},
   "outputs": [
    {
     "name": "stdout",
     "output_type": "stream",
     "text": [
      "Accuracy is :0.7674\n",
      "Recall is :0.5691\n",
      "\n",
      "AUC is :0.759\n"
     ]
    },
    {
     "data": {
      "image/png": "[encoded data removed]",
      "text/plain": [
       "<Figure size 432x288 with 1 Axes>"
      ]
     },
     "metadata": {
      "image/png": {
       "height": 276,
       "width": 383
      },
      "needs_background": "light"
     },
     "output_type": "display_data"
    }
   ],
   "source": [
    "# see the AUC based on test data with best params found before\n",
    "acc, recall, roc_auc, ftr, tpr, conf_matrix, logreg =  models.log_reg(\n",
    "    X_train_scale,X_test_scale,y_train, y_test,best_c, best_pen);"
   ]
  },
  {
   "cell_type": "code",
   "execution_count": 29,
   "metadata": {},
   "outputs": [
    {
     "data": {
      "text/html": [
       "<div>\n",
       "<style scoped>\n",
       "    .dataframe tbody tr th:only-of-type {\n",
       "        vertical-align: middle;\n",
       "    }\n",
       "\n",
       "    .dataframe tbody tr th {\n",
       "        vertical-align: top;\n",
       "    }\n",
       "\n",
       "    .dataframe thead th {\n",
       "        text-align: right;\n",
       "    }\n",
       "</style>\n",
       "<table border=\"1\" class=\"dataframe\">\n",
       "  <thead>\n",
       "    <tr style=\"text-align: right;\">\n",
       "      <th>Predicted</th>\n",
       "      <th>0</th>\n",
       "      <th>1</th>\n",
       "      <th>All</th>\n",
       "    </tr>\n",
       "    <tr>\n",
       "      <th>True</th>\n",
       "      <th></th>\n",
       "      <th></th>\n",
       "      <th></th>\n",
       "    </tr>\n",
       "  </thead>\n",
       "  <tbody>\n",
       "    <tr>\n",
       "      <th>0</th>\n",
       "      <td>5827</td>\n",
       "      <td>1185</td>\n",
       "      <td>7012</td>\n",
       "    </tr>\n",
       "    <tr>\n",
       "      <th>1</th>\n",
       "      <td>864</td>\n",
       "      <td>1104</td>\n",
       "      <td>1968</td>\n",
       "    </tr>\n",
       "    <tr>\n",
       "      <th>All</th>\n",
       "      <td>6691</td>\n",
       "      <td>2289</td>\n",
       "      <td>8980</td>\n",
       "    </tr>\n",
       "  </tbody>\n",
       "</table>\n",
       "</div>"
      ],
      "text/plain": [
       "Predicted     0     1   All\n",
       "True                       \n",
       "0          5827  1185  7012\n",
       "1           864  1104  1968\n",
       "All        6691  2289  8980"
      ]
     },
     "execution_count": 29,
     "metadata": {},
     "output_type": "execute_result"
    }
   ],
   "source": [
    "conf_matrix"
   ]
  },
  {
   "cell_type": "markdown",
   "metadata": {},
   "source": [
    "The best hyperparameter to produce the highest AUC on the training data is C = 11.28, penality = 'l1'.\n",
    "\n",
    "L1 penalise for the sum the absolute value of the coefficients, and in turn performs feature selection by producing near zero values as the coef for unimportant features. \n",
    "\n",
    "Parameter C is the the inverse of regularization strength (1/lambda), the higher the C, the lower the strength of regularization. \n",
    "\n",
    "Before we put in parameter { class_weight='balanced' } in the logistic regression model we were able to get a 0.82 accuracy, while this is high considering the imbalanced default counts in the data this is not very impressive. Also the recall score was only 0.36. In our model above we have managed to get this to 0.57 recall score."
   ]
  },
  {
   "cell_type": "markdown",
   "metadata": {},
   "source": [
    "<h4>Study the model coef</h4>\n",
    "\n",
    "Here we look to extract the coefficients from the best logistic regression model and try to interpret it."
   ]
  },
  {
   "cell_type": "code",
   "execution_count": 31,
   "metadata": {},
   "outputs": [],
   "source": [
    "# assign the coef from the best model above\n",
    "coef = logreg.coef_\n",
    "model_result = pd.DataFrame(coef.reshape(-1, len(coef)), index=X_train.columns, columns=['coef_value'])"
   ]
  },
  {
   "cell_type": "code",
   "execution_count": 32,
   "metadata": {},
   "outputs": [],
   "source": [
    "# add a column that only looks at the magnitude/affect of the coef not the direction\n",
    "model_result['coef_abs'] = model_result['coef_value'].apply(lambda x: np.abs(x))"
   ]
  },
  {
   "cell_type": "code",
   "execution_count": 33,
   "metadata": {},
   "outputs": [
    {
     "data": {
      "text/html": [
       "<div>\n",
       "<style scoped>\n",
       "    .dataframe tbody tr th:only-of-type {\n",
       "        vertical-align: middle;\n",
       "    }\n",
       "\n",
       "    .dataframe tbody tr th {\n",
       "        vertical-align: top;\n",
       "    }\n",
       "\n",
       "    .dataframe thead th {\n",
       "        text-align: right;\n",
       "    }\n",
       "</style>\n",
       "<table border=\"1\" class=\"dataframe\">\n",
       "  <thead>\n",
       "    <tr style=\"text-align: right;\">\n",
       "      <th></th>\n",
       "      <th>coef_value</th>\n",
       "      <th>coef_abs</th>\n",
       "    </tr>\n",
       "  </thead>\n",
       "  <tbody>\n",
       "    <tr>\n",
       "      <th>pay_amt2</th>\n",
       "      <td>-19.512656</td>\n",
       "      <td>19.512656</td>\n",
       "    </tr>\n",
       "    <tr>\n",
       "      <th>bill_amt3</th>\n",
       "      <td>6.217678</td>\n",
       "      <td>6.217678</td>\n",
       "    </tr>\n",
       "    <tr>\n",
       "      <th>pay_amt1</th>\n",
       "      <td>-4.503006</td>\n",
       "      <td>4.503006</td>\n",
       "    </tr>\n",
       "    <tr>\n",
       "      <th>late_1</th>\n",
       "      <td>3.818880</td>\n",
       "      <td>3.818880</td>\n",
       "    </tr>\n",
       "    <tr>\n",
       "      <th>limit_bal</th>\n",
       "      <td>-1.998213</td>\n",
       "      <td>1.998213</td>\n",
       "    </tr>\n",
       "    <tr>\n",
       "      <th>bill_amt1</th>\n",
       "      <td>-1.773401</td>\n",
       "      <td>1.773401</td>\n",
       "    </tr>\n",
       "    <tr>\n",
       "      <th>arrears_1</th>\n",
       "      <td>-1.539156</td>\n",
       "      <td>1.539156</td>\n",
       "    </tr>\n",
       "    <tr>\n",
       "      <th>bill_amt2</th>\n",
       "      <td>1.394887</td>\n",
       "      <td>1.394887</td>\n",
       "    </tr>\n",
       "    <tr>\n",
       "      <th>late_3</th>\n",
       "      <td>-1.380340</td>\n",
       "      <td>1.380340</td>\n",
       "    </tr>\n",
       "    <tr>\n",
       "      <th>bill_amt6</th>\n",
       "      <td>-1.352042</td>\n",
       "      <td>1.352042</td>\n",
       "    </tr>\n",
       "  </tbody>\n",
       "</table>\n",
       "</div>"
      ],
      "text/plain": [
       "           coef_value   coef_abs\n",
       "pay_amt2   -19.512656  19.512656\n",
       "bill_amt3    6.217678   6.217678\n",
       "pay_amt1    -4.503006   4.503006\n",
       "late_1       3.818880   3.818880\n",
       "limit_bal   -1.998213   1.998213\n",
       "bill_amt1   -1.773401   1.773401\n",
       "arrears_1   -1.539156   1.539156\n",
       "bill_amt2    1.394887   1.394887\n",
       "late_3      -1.380340   1.380340\n",
       "bill_amt6   -1.352042   1.352042"
      ]
     },
     "execution_count": 33,
     "metadata": {},
     "output_type": "execute_result"
    }
   ],
   "source": [
    "model_result.sort_values('coef_abs', ascending=False).head(10)"
   ]
  },
  {
   "cell_type": "markdown",
   "metadata": {},
   "source": [
    "It seems like payments data negatively affects the odds of default which makes sense as a bigger payment means less balanced (debt) and hence less chance to default. While a larger balance increase the odds to default.\n",
    "\n",
    "No of months in arrears at previous ago is increases the loglikelihood of default, however note the same variable 3 months ago, has the opposite effect. This could suggest relying on old payment behaviour is not relevent in predicting.\n",
    "\n",
    "Also, looking at the above result for the variables with the highest coef, its not the arrears with status 2, 3, but rather payments data, in particular recent payments data. Ituitively speaking, it would make more sense to use recent payments as a % of the outstanding balance rather than amounts. Hence we will do this for the next model to see if we can improve the model."
   ]
  },
  {
   "cell_type": "markdown",
   "metadata": {},
   "source": [
    "<h4>Model 2 - Feature Engineering: Using Payments as a % of balance rather than amount </h4>\n",
    "\n",
    "We need to do some extra data cleaning as the payments as  % of balance data contains some NaN(where balance was 0), and some inf values.\n",
    "\n",
    "We then proceed to carry out model fitting and grid search to find best hyperparameter."
   ]
  },
  {
   "cell_type": "code",
   "execution_count": 34,
   "metadata": {},
   "outputs": [],
   "source": [
    "df2 = cleaning.clean_raw()"
   ]
  },
  {
   "cell_type": "code",
   "execution_count": 35,
   "metadata": {},
   "outputs": [],
   "source": [
    "\n",
    "df2.drop(columns=['pay_0','pay_2', 'pay_3', 'pay_4','pay_5','pay_6'], inplace=True)\n",
    "df2.drop(columns=['pay_amt1','pay_amt2', 'pay_amt3', 'pay_amt4','pay_amt5'], inplace=True)\n",
    "\n",
    "# we split the arrears data as it contains some -2 and -1 which we think are all paid on time or not used card\n",
    "for i in range(1,7):\n",
    "    df2[f'early_{i}'] = df2[f'arrears_{i}'].apply(lambda x: 1 if x <= 0 else 0)\n",
    "    df2[f'late_{i}']= df2[f'arrears_{i}'].apply(lambda x: x if x > 0 else 0)\n",
    "\n",
    "arr = []\n",
    "for i in range(1,7):\n",
    "    arr.append(f'early_{i}')\n",
    "\n",
    "x_feats = ['sex', 'education', 'marriage'] + arr"
   ]
  },
  {
   "cell_type": "code",
   "execution_count": 36,
   "metadata": {},
   "outputs": [],
   "source": [
    "df2.replace([np.inf, -np.inf], np.nan,inplace=True)\n",
    "\n",
    "# around 3k to 4k of rows with NaN pay%_ missing as balance was zero for these\n",
    "df2.dropna(axis=0, inplace=True)"
   ]
  },
  {
   "cell_type": "code",
   "execution_count": 37,
   "metadata": {},
   "outputs": [],
   "source": [
    "X2 = pd.get_dummies(df2, columns=x_feats, drop_first=True)\n",
    "X2.drop(columns=['default'], inplace=True)\n",
    "y2 = df2['default']"
   ]
  },
  {
   "cell_type": "code",
   "execution_count": 38,
   "metadata": {},
   "outputs": [],
   "source": [
    "X2_train, X2_test, y2_train, y2_test = train_test_split(X2, y2, test_size=0.3, random_state=42)\n",
    "\n",
    "scaler = MinMaxScaler()\n",
    "\n",
    "# scale your X\n",
    "X2_train_scale = scaler.fit_transform(X2_train)\n",
    "X2_test_scale = scaler.transform(X2_test)"
   ]
  },
  {
   "cell_type": "code",
   "execution_count": 39,
   "metadata": {},
   "outputs": [
    {
     "name": "stdout",
     "output_type": "stream",
     "text": [
      "Accuracy is :0.8045\n",
      "Recall is :0.5663\n",
      "\n",
      "AUC is :0.784\n"
     ]
    },
    {
     "data": {
      "image/png": "[encoded data removed]",
      "text/plain": [
       "<Figure size 432x288 with 1 Axes>"
      ]
     },
     "metadata": {
      "image/png": {
       "height": 276,
       "width": 383
      },
      "needs_background": "light"
     },
     "output_type": "display_data"
    }
   ],
   "source": [
    "# taking the best c from last model as a base\n",
    "models.log_reg(X2_train_scale,X2_test_scale,y2_train, y2_test, 0.2,'l1');"
   ]
  },
  {
   "cell_type": "code",
   "execution_count": 42,
   "metadata": {},
   "outputs": [],
   "source": [
    "# call function to get the best params for the log reg model\n",
    "best_c2, best_pen2, best_clf2 = models.grid_search(X2_train_scale, y2_train, score = 'recall', cv=3)"
   ]
  },
  {
   "cell_type": "code",
   "execution_count": 43,
   "metadata": {},
   "outputs": [
    {
     "data": {
      "text/plain": [
       "(78.47599703514607, 'l1')"
      ]
     },
     "execution_count": 43,
     "metadata": {},
     "output_type": "execute_result"
    }
   ],
   "source": [
    "best_c2, best_pen2"
   ]
  },
  {
   "cell_type": "code",
   "execution_count": 44,
   "metadata": {},
   "outputs": [
    {
     "name": "stdout",
     "output_type": "stream",
     "text": [
      "Accuracy is :0.8014\n",
      "Recall is :0.5682\n",
      "\n",
      "AUC is :0.784\n"
     ]
    },
    {
     "data": {
      "image/png": "[encoded data removed]",
      "text/plain": [
       "<Figure size 432x288 with 1 Axes>"
      ]
     },
     "metadata": {
      "image/png": {
       "height": 276,
       "width": 383
      },
      "needs_background": "light"
     },
     "output_type": "display_data"
    }
   ],
   "source": [
    "# See the Performance of the final model using test dataset\n",
    "acc, recall, roc_auc, ftr, tpr, conf_matrix, logreg = models.log_reg(\n",
    "    X2_train_scale,X2_test_scale,y2_train, y2_test,best_c2,best_pen2);"
   ]
  },
  {
   "cell_type": "markdown",
   "metadata": {},
   "source": [
    "Our final model with the feature engineering have produced a recall of 56.8%, accuracy of 80.1% and AUC of 78.4%\n"
   ]
  },
  {
   "cell_type": "code",
   "execution_count": 52,
   "metadata": {},
   "outputs": [],
   "source": [
    "# assign the coef from the best model above\n",
    "coef = logreg.coef_\n",
    "model_result = pd.DataFrame(coef.reshape(-1, len(coef)), index=X2_train.columns, columns=['coef_value'])\n",
    "\n",
    "# add a column that only looks at the magnitude/affect of the coef not the direction\n",
    "model_result['coef_abs'] = model_result['coef_value'].apply(lambda x: np.abs(x))"
   ]
  },
  {
   "cell_type": "code",
   "execution_count": 53,
   "metadata": {},
   "outputs": [
    {
     "data": {
      "text/html": [
       "<div>\n",
       "<style scoped>\n",
       "    .dataframe tbody tr th:only-of-type {\n",
       "        vertical-align: middle;\n",
       "    }\n",
       "\n",
       "    .dataframe tbody tr th {\n",
       "        vertical-align: top;\n",
       "    }\n",
       "\n",
       "    .dataframe thead th {\n",
       "        text-align: right;\n",
       "    }\n",
       "</style>\n",
       "<table border=\"1\" class=\"dataframe\">\n",
       "  <thead>\n",
       "    <tr style=\"text-align: right;\">\n",
       "      <th></th>\n",
       "      <th>coef_value</th>\n",
       "      <th>coef_abs</th>\n",
       "    </tr>\n",
       "  </thead>\n",
       "  <tbody>\n",
       "    <tr>\n",
       "      <th>pay%_2</th>\n",
       "      <td>7.352393</td>\n",
       "      <td>7.352393</td>\n",
       "    </tr>\n",
       "    <tr>\n",
       "      <th>pay%_5</th>\n",
       "      <td>-4.917877</td>\n",
       "      <td>4.917877</td>\n",
       "    </tr>\n",
       "    <tr>\n",
       "      <th>pay%_1</th>\n",
       "      <td>4.316830</td>\n",
       "      <td>4.316830</td>\n",
       "    </tr>\n",
       "    <tr>\n",
       "      <th>late_1</th>\n",
       "      <td>4.139994</td>\n",
       "      <td>4.139994</td>\n",
       "    </tr>\n",
       "    <tr>\n",
       "      <th>bill_amt1</th>\n",
       "      <td>2.987960</td>\n",
       "      <td>2.987960</td>\n",
       "    </tr>\n",
       "    <tr>\n",
       "      <th>limit_bal</th>\n",
       "      <td>-2.814718</td>\n",
       "      <td>2.814718</td>\n",
       "    </tr>\n",
       "    <tr>\n",
       "      <th>arrears_1</th>\n",
       "      <td>-2.438891</td>\n",
       "      <td>2.438891</td>\n",
       "    </tr>\n",
       "    <tr>\n",
       "      <th>late_6</th>\n",
       "      <td>2.294350</td>\n",
       "      <td>2.294350</td>\n",
       "    </tr>\n",
       "    <tr>\n",
       "      <th>pay_amt6</th>\n",
       "      <td>-2.230674</td>\n",
       "      <td>2.230674</td>\n",
       "    </tr>\n",
       "    <tr>\n",
       "      <th>pay%_4</th>\n",
       "      <td>-2.102355</td>\n",
       "      <td>2.102355</td>\n",
       "    </tr>\n",
       "  </tbody>\n",
       "</table>\n",
       "</div>"
      ],
      "text/plain": [
       "           coef_value  coef_abs\n",
       "pay%_2       7.352393  7.352393\n",
       "pay%_5      -4.917877  4.917877\n",
       "pay%_1       4.316830  4.316830\n",
       "late_1       4.139994  4.139994\n",
       "bill_amt1    2.987960  2.987960\n",
       "limit_bal   -2.814718  2.814718\n",
       "arrears_1   -2.438891  2.438891\n",
       "late_6       2.294350  2.294350\n",
       "pay_amt6    -2.230674  2.230674\n",
       "pay%_4      -2.102355  2.102355"
      ]
     },
     "execution_count": 53,
     "metadata": {},
     "output_type": "execute_result"
    }
   ],
   "source": [
    "model_result.sort_values('coef_abs', ascending=False).head(10)"
   ]
  },
  {
   "cell_type": "markdown",
   "metadata": {},
   "source": []
  }
 ],
 "metadata": {
  "kernelspec": {
   "display_name": "Python 3",
   "language": "python",
   "name": "python3"
  },
  "language_info": {
   "codemirror_mode": {
    "name": "ipython",
    "version": 3
   },
   "file_extension": ".py",
   "mimetype": "text/x-python",
   "name": "python",
   "nbconvert_exporter": "python",
   "pygments_lexer": "ipython3",
   "version": "3.7.3"
  }
 },
 "nbformat": 4,
 "nbformat_minor": 4
}
