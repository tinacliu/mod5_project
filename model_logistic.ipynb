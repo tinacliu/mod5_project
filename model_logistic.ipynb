{
 "cells": [
  {
   "cell_type": "markdown",
   "metadata": {},
   "source": [
    "<h3>Model - Logistic Regression</h3>"
   ]
  },
  {
   "cell_type": "code",
   "execution_count": 1,
   "metadata": {},
   "outputs": [],
   "source": [
    "import numpy as np\n",
    "import pandas as pd\n",
    "import seaborn as sns\n",
    "import matplotlib.pyplot as plt\n",
    "sns.set_style('whitegrid')\n",
    "\n",
    "from sklearn.model_selection import train_test_split\n",
    "from sklearn.linear_model import LogisticRegression\n",
    "from sklearn.metrics import accuracy_score, recall_score,precision_score,f1_score, roc_curve, auc\n",
    "from sklearn.preprocessing import MinMaxScaler\n",
    "from sklearn.model_selection import GridSearchCV\n",
    "from imblearn.over_sampling import SMOTE\n",
    "\n",
    "import cleaning\n",
    "import models\n",
    "\n",
    "%config InlineBackend.figure_format = 'retina'\n",
    "%matplotlib inline\n",
    "%load_ext autoreload\n",
    "%autoreload 2\n",
    "pd.set_option('display.max_columns', 999)"
   ]
  },
  {
   "cell_type": "code",
   "execution_count": 2,
   "metadata": {},
   "outputs": [],
   "source": [
    "# !pip install imblearn"
   ]
  },
  {
   "cell_type": "markdown",
   "metadata": {},
   "source": [
    "<h4>Model1</h4>\n",
    "\n",
    "In order to fit a logistic regression, we need to transform categorical data series to dummy data series (1 or 0). \n",
    "Here we will fit the model using the past payments data in amount rather than % so we drop the %s. We also drop the arrears data as we applied grouping to 3m arrears or later due to small sample size.\n",
    "\n",
    "We then scale the data using the MinMaxScaler before fitting the model.\n",
    "\n",
    "Note in the data we have imbalance classes of a lot more non-default data than default data, hence in the logistic regression we have put in parameter { class_weight='balanced' } to resolve for this imbalance. \n",
    "\n",
    "In terms of the evaluation metric we will focus on for our model, we have chosen recall. As the business case of a credit default model is to correctly identifying the \"bad\" customers that will default, and recall score gives out of all the actual defaulted customers, how many have our model predicted correctly. We will look at accuracy but it's worth to note that due to the high % of non-default customers (around 78%), if we build a very bad model that puts everyone as \"good\" it will still give us an high accuracy rate of 80%.\n",
    "\n",
    "We will also look at AUC (area under curve from the ROC curve), which is a performance measurement for classification problem at various thresholds settings. This tells us how much our model is capable of distinguishing between classes.\n",
    "\n",
    "In order to find the best hyperparameter we use grid search to try to improve the model result, while checking that our best model is not subject to overfitting.\n",
    "\n"
   ]
  },
  {
   "cell_type": "code",
   "execution_count": 3,
   "metadata": {},
   "outputs": [],
   "source": [
    "df = cleaning.clean_raw()"
   ]
  },
  {
   "cell_type": "code",
   "execution_count": 4,
   "metadata": {},
   "outputs": [],
   "source": [
    "# data transformation for model\n",
    "df.drop(columns=['pay_0','pay_2', 'pay_3', 'pay_4','pay_5','pay_6'], inplace=True)\n",
    "df.drop(columns=['pay%_1','pay%_2', 'pay%_3', 'pay%_4','pay%_5'], inplace=True)\n",
    "\n",
    "# we split the arrears data as it contains some -2 and -1 which we think are all paid on time or not used card\n",
    "for i in range(1,7):\n",
    "    df[f'early_{i}'] = df[f'arrears_{i}'].apply(lambda x: 1 if x <= 0 else 0)\n",
    "    df[f'late_{i}']= df[f'arrears_{i}'].apply(lambda x: x if x > 0 else 0)\n",
    "    \n",
    "df.drop(columns=['arrears_1','arrears_2', 'arrears_3', 'arrears_4','arrears_5','arrears_6'], inplace=True)\n",
    "\n",
    "arr = []\n",
    "for i in range(1,7):\n",
    "    arr.append(f'early_{i}')\n",
    "\n",
    "x_feats = ['sex', 'education', 'marriage'] + arr"
   ]
  },
  {
   "cell_type": "code",
   "execution_count": 5,
   "metadata": {},
   "outputs": [],
   "source": [
    "# get dummy variables for catagorical data and set X, y\n",
    "X = pd.get_dummies(df, columns=x_feats, drop_first=True)\n",
    "X.drop(columns=['default'], inplace=True)\n",
    "# X.drop(columns=['bill_amt2','bill_amt3','bill_amt4','bill_amt5','bill_amt6'], inplace=True)\n",
    "\n",
    "y = df['default']"
   ]
  },
  {
   "cell_type": "code",
   "execution_count": 6,
   "metadata": {},
   "outputs": [],
   "source": [
    "# train test split, test being 30% of dataset\n",
    "X_train, X_test, y_train, y_test = train_test_split(X, y, test_size=0.3, random_state=42)\n",
    "\n",
    "scaler = MinMaxScaler()\n",
    "\n",
    "# scale your X\n",
    "X_train_scale = scaler.fit_transform(X_train)\n",
    "X_test_scale = scaler.transform(X_test)\n"
   ]
  },
  {
   "cell_type": "code",
   "execution_count": 7,
   "metadata": {},
   "outputs": [],
   "source": [
    "# # calling SMOTE, statistical technique for increasing the number of cases in the dataset in a balanced way\n",
    "# sm = SMOTE(random_state = 2)\n",
    "# X_train_res, y_train_res = sm.fit_sample(X_train_scale, y_train.ravel())"
   ]
  },
  {
   "cell_type": "markdown",
   "metadata": {},
   "source": [
    "<h5>Model Fitting and Results</h5>"
   ]
  },
  {
   "cell_type": "code",
   "execution_count": 8,
   "metadata": {},
   "outputs": [
    {
     "name": "stdout",
     "output_type": "stream",
     "text": [
      "Accuracy is :0.7757\n",
      "Recall is :0.562\n",
      "Precision is :0.4898\n",
      "F1 score is :0.5234\n",
      "\n",
      "AUC is :0.751\n"
     ]
    },
    {
     "data": {
      "image/png": "[encoded data removed]",
      "text/plain": [
       "<Figure size 432x288 with 1 Axes>"
      ]
     },
     "metadata": {
      "image/png": {
       "height": 276,
       "width": 383
      },
      "needs_background": "light"
     },
     "output_type": "display_data"
    }
   ],
   "source": [
    "# call function to run logistic refression model, train test split is included in function\n",
    "acc, recall, roc_auc, ftr, tpr, conf_matrix, logreg = models.log_reg(\n",
    "    X_train_scale, X_test_scale,\n",
    "    y_train, y_test,\n",
    "    0.1,'l1');"
   ]
  },
  {
   "cell_type": "code",
   "execution_count": 9,
   "metadata": {},
   "outputs": [],
   "source": [
    "# call function to get the best params for the log reg model\n",
    "best_c, best_pen, best_models = models.grid_search(X_train_scale, y_train, score = 'recall', cv=3)"
   ]
  },
  {
   "cell_type": "code",
   "execution_count": 10,
   "metadata": {},
   "outputs": [
    {
     "data": {
      "text/html": [
       "<div>\n",
       "<style scoped>\n",
       "    .dataframe tbody tr th:only-of-type {\n",
       "        vertical-align: middle;\n",
       "    }\n",
       "\n",
       "    .dataframe tbody tr th {\n",
       "        vertical-align: top;\n",
       "    }\n",
       "\n",
       "    .dataframe thead th {\n",
       "        text-align: right;\n",
       "    }\n",
       "</style>\n",
       "<table border=\"1\" class=\"dataframe\">\n",
       "  <thead>\n",
       "    <tr style=\"text-align: right;\">\n",
       "      <th></th>\n",
       "      <th>mean_fit_time</th>\n",
       "      <th>std_fit_time</th>\n",
       "      <th>mean_score_time</th>\n",
       "      <th>std_score_time</th>\n",
       "      <th>param_C</th>\n",
       "      <th>param_penalty</th>\n",
       "      <th>params</th>\n",
       "      <th>split0_test_score</th>\n",
       "      <th>split1_test_score</th>\n",
       "      <th>split2_test_score</th>\n",
       "      <th>mean_test_score</th>\n",
       "      <th>std_test_score</th>\n",
       "      <th>rank_test_score</th>\n",
       "      <th>split0_train_score</th>\n",
       "      <th>split1_train_score</th>\n",
       "      <th>split2_train_score</th>\n",
       "      <th>mean_train_score</th>\n",
       "      <th>std_train_score</th>\n",
       "      <th>split0_drop</th>\n",
       "      <th>split1_drop</th>\n",
       "      <th>split2_drop</th>\n",
       "      <th>avg_drop</th>\n",
       "      <th>overfit</th>\n",
       "    </tr>\n",
       "  </thead>\n",
       "  <tbody>\n",
       "    <tr>\n",
       "      <th>18</th>\n",
       "      <td>0.515261</td>\n",
       "      <td>0.167221</td>\n",
       "      <td>0.002749</td>\n",
       "      <td>0.000066</td>\n",
       "      <td>0.615848</td>\n",
       "      <td>l1</td>\n",
       "      <td>{'C': 0.615848211066026, 'penalty': 'l1'}</td>\n",
       "      <td>0.362934</td>\n",
       "      <td>0.343629</td>\n",
       "      <td>0.348553</td>\n",
       "      <td>0.351706</td>\n",
       "      <td>0.008190</td>\n",
       "      <td>1</td>\n",
       "      <td>0.331296</td>\n",
       "      <td>0.362174</td>\n",
       "      <td>0.361326</td>\n",
       "      <td>0.351599</td>\n",
       "      <td>0.014360</td>\n",
       "      <td>-0.031638</td>\n",
       "      <td>0.018545</td>\n",
       "      <td>0.012773</td>\n",
       "      <td>-0.000107</td>\n",
       "      <td>0</td>\n",
       "    </tr>\n",
       "    <tr>\n",
       "      <th>35</th>\n",
       "      <td>0.325830</td>\n",
       "      <td>0.053802</td>\n",
       "      <td>0.003053</td>\n",
       "      <td>0.000617</td>\n",
       "      <td>1438.45</td>\n",
       "      <td>l2</td>\n",
       "      <td>{'C': 1438.44988828766, 'penalty': 'l2'}</td>\n",
       "      <td>0.363578</td>\n",
       "      <td>0.344273</td>\n",
       "      <td>0.345981</td>\n",
       "      <td>0.351277</td>\n",
       "      <td>0.008726</td>\n",
       "      <td>2</td>\n",
       "      <td>0.333226</td>\n",
       "      <td>0.358958</td>\n",
       "      <td>0.361004</td>\n",
       "      <td>0.351063</td>\n",
       "      <td>0.012640</td>\n",
       "      <td>-0.030352</td>\n",
       "      <td>0.014685</td>\n",
       "      <td>0.015023</td>\n",
       "      <td>-0.000215</td>\n",
       "      <td>0</td>\n",
       "    </tr>\n",
       "    <tr>\n",
       "      <th>39</th>\n",
       "      <td>0.261621</td>\n",
       "      <td>0.005769</td>\n",
       "      <td>0.002589</td>\n",
       "      <td>0.000025</td>\n",
       "      <td>10000</td>\n",
       "      <td>l2</td>\n",
       "      <td>{'C': 10000.0, 'penalty': 'l2'}</td>\n",
       "      <td>0.363578</td>\n",
       "      <td>0.344273</td>\n",
       "      <td>0.345981</td>\n",
       "      <td>0.351277</td>\n",
       "      <td>0.008726</td>\n",
       "      <td>2</td>\n",
       "      <td>0.333226</td>\n",
       "      <td>0.358636</td>\n",
       "      <td>0.361004</td>\n",
       "      <td>0.350955</td>\n",
       "      <td>0.012574</td>\n",
       "      <td>-0.030352</td>\n",
       "      <td>0.014363</td>\n",
       "      <td>0.015023</td>\n",
       "      <td>-0.000322</td>\n",
       "      <td>0</td>\n",
       "    </tr>\n",
       "    <tr>\n",
       "      <th>37</th>\n",
       "      <td>0.298771</td>\n",
       "      <td>0.027341</td>\n",
       "      <td>0.003105</td>\n",
       "      <td>0.000662</td>\n",
       "      <td>3792.69</td>\n",
       "      <td>l2</td>\n",
       "      <td>{'C': 3792.690190732246, 'penalty': 'l2'}</td>\n",
       "      <td>0.363578</td>\n",
       "      <td>0.344273</td>\n",
       "      <td>0.345981</td>\n",
       "      <td>0.351277</td>\n",
       "      <td>0.008726</td>\n",
       "      <td>2</td>\n",
       "      <td>0.333226</td>\n",
       "      <td>0.358636</td>\n",
       "      <td>0.361004</td>\n",
       "      <td>0.350955</td>\n",
       "      <td>0.012574</td>\n",
       "      <td>-0.030352</td>\n",
       "      <td>0.014363</td>\n",
       "      <td>0.015023</td>\n",
       "      <td>-0.000322</td>\n",
       "      <td>0</td>\n",
       "    </tr>\n",
       "    <tr>\n",
       "      <th>20</th>\n",
       "      <td>1.228932</td>\n",
       "      <td>0.206298</td>\n",
       "      <td>0.002759</td>\n",
       "      <td>0.000024</td>\n",
       "      <td>1.62378</td>\n",
       "      <td>l1</td>\n",
       "      <td>{'C': 1.623776739188721, 'penalty': 'l1'}</td>\n",
       "      <td>0.364865</td>\n",
       "      <td>0.341699</td>\n",
       "      <td>0.347267</td>\n",
       "      <td>0.351277</td>\n",
       "      <td>0.009873</td>\n",
       "      <td>5</td>\n",
       "      <td>0.334513</td>\n",
       "      <td>0.360566</td>\n",
       "      <td>0.364543</td>\n",
       "      <td>0.353207</td>\n",
       "      <td>0.013318</td>\n",
       "      <td>-0.030352</td>\n",
       "      <td>0.018867</td>\n",
       "      <td>0.017276</td>\n",
       "      <td>0.001930</td>\n",
       "      <td>0</td>\n",
       "    </tr>\n",
       "  </tbody>\n",
       "</table>\n",
       "</div>"
      ],
      "text/plain": [
       "    mean_fit_time  std_fit_time  mean_score_time  std_score_time   param_C  \\\n",
       "18       0.515261      0.167221         0.002749        0.000066  0.615848   \n",
       "35       0.325830      0.053802         0.003053        0.000617   1438.45   \n",
       "39       0.261621      0.005769         0.002589        0.000025     10000   \n",
       "37       0.298771      0.027341         0.003105        0.000662   3792.69   \n",
       "20       1.228932      0.206298         0.002759        0.000024   1.62378   \n",
       "\n",
       "   param_penalty                                     params  \\\n",
       "18            l1  {'C': 0.615848211066026, 'penalty': 'l1'}   \n",
       "35            l2   {'C': 1438.44988828766, 'penalty': 'l2'}   \n",
       "39            l2            {'C': 10000.0, 'penalty': 'l2'}   \n",
       "37            l2  {'C': 3792.690190732246, 'penalty': 'l2'}   \n",
       "20            l1  {'C': 1.623776739188721, 'penalty': 'l1'}   \n",
       "\n",
       "    split0_test_score  split1_test_score  split2_test_score  mean_test_score  \\\n",
       "18           0.362934           0.343629           0.348553         0.351706   \n",
       "35           0.363578           0.344273           0.345981         0.351277   \n",
       "39           0.363578           0.344273           0.345981         0.351277   \n",
       "37           0.363578           0.344273           0.345981         0.351277   \n",
       "20           0.364865           0.341699           0.347267         0.351277   \n",
       "\n",
       "    std_test_score  rank_test_score  split0_train_score  split1_train_score  \\\n",
       "18        0.008190                1            0.331296            0.362174   \n",
       "35        0.008726                2            0.333226            0.358958   \n",
       "39        0.008726                2            0.333226            0.358636   \n",
       "37        0.008726                2            0.333226            0.358636   \n",
       "20        0.009873                5            0.334513            0.360566   \n",
       "\n",
       "    split2_train_score  mean_train_score  std_train_score  split0_drop  \\\n",
       "18            0.361326          0.351599         0.014360    -0.031638   \n",
       "35            0.361004          0.351063         0.012640    -0.030352   \n",
       "39            0.361004          0.350955         0.012574    -0.030352   \n",
       "37            0.361004          0.350955         0.012574    -0.030352   \n",
       "20            0.364543          0.353207         0.013318    -0.030352   \n",
       "\n",
       "    split1_drop  split2_drop  avg_drop  overfit  \n",
       "18     0.018545     0.012773 -0.000107        0  \n",
       "35     0.014685     0.015023 -0.000215        0  \n",
       "39     0.014363     0.015023 -0.000322        0  \n",
       "37     0.014363     0.015023 -0.000322        0  \n",
       "20     0.018867     0.017276  0.001930        0  "
      ]
     },
     "execution_count": 10,
     "metadata": {},
     "output_type": "execute_result"
    }
   ],
   "source": [
    "# the best 5 models, in the last columns we check if the model is overfitting by checking the diff of train and test\n",
    "best_models.sort_values('rank_test_score').head(5)"
   ]
  },
  {
   "cell_type": "code",
   "execution_count": 11,
   "metadata": {},
   "outputs": [
    {
     "data": {
      "text/plain": [
       "(0.62, 'l1')"
      ]
     },
     "execution_count": 11,
     "metadata": {},
     "output_type": "execute_result"
    }
   ],
   "source": [
    "round(best_c,2), best_pen"
   ]
  },
  {
   "cell_type": "code",
   "execution_count": 12,
   "metadata": {},
   "outputs": [
    {
     "name": "stdout",
     "output_type": "stream",
     "text": [
      "Accuracy is :0.7755\n",
      "Recall is :0.5661\n",
      "Precision is :0.4895\n",
      "F1 score is :0.525\n",
      "\n",
      "AUC is :0.755\n"
     ]
    },
    {
     "data": {
      "image/png": "[encoded data removed]",
      "text/plain": [
       "<Figure size 432x288 with 1 Axes>"
      ]
     },
     "metadata": {
      "image/png": {
       "height": 276,
       "width": 383
      },
      "needs_background": "light"
     },
     "output_type": "display_data"
    }
   ],
   "source": [
    "# see the AUC based on test data with best params found before\n",
    "acc, recall, roc_auc, ftr, tpr, conf_matrix, logreg =  models.log_reg(\n",
    "    X_train_scale,X_test_scale,y_train, y_test,best_c, best_pen);"
   ]
  },
  {
   "cell_type": "code",
   "execution_count": 14,
   "metadata": {},
   "outputs": [
    {
     "data": {
      "text/html": [
       "<div>\n",
       "<style scoped>\n",
       "    .dataframe tbody tr th:only-of-type {\n",
       "        vertical-align: middle;\n",
       "    }\n",
       "\n",
       "    .dataframe tbody tr th {\n",
       "        vertical-align: top;\n",
       "    }\n",
       "\n",
       "    .dataframe thead th {\n",
       "        text-align: right;\n",
       "    }\n",
       "</style>\n",
       "<table border=\"1\" class=\"dataframe\">\n",
       "  <thead>\n",
       "    <tr style=\"text-align: right;\">\n",
       "      <th>Predicted</th>\n",
       "      <th>0</th>\n",
       "      <th>1</th>\n",
       "      <th>All</th>\n",
       "    </tr>\n",
       "    <tr>\n",
       "      <th>True</th>\n",
       "      <th></th>\n",
       "      <th></th>\n",
       "      <th></th>\n",
       "    </tr>\n",
       "  </thead>\n",
       "  <tbody>\n",
       "    <tr>\n",
       "      <th>0</th>\n",
       "      <td>5771</td>\n",
       "      <td>1241</td>\n",
       "      <td>7012</td>\n",
       "    </tr>\n",
       "    <tr>\n",
       "      <th>1</th>\n",
       "      <td>849</td>\n",
       "      <td>1119</td>\n",
       "      <td>1968</td>\n",
       "    </tr>\n",
       "    <tr>\n",
       "      <th>All</th>\n",
       "      <td>6620</td>\n",
       "      <td>2360</td>\n",
       "      <td>8980</td>\n",
       "    </tr>\n",
       "  </tbody>\n",
       "</table>\n",
       "</div>"
      ],
      "text/plain": [
       "Predicted     0     1   All\n",
       "True                       \n",
       "0          5771  1241  7012\n",
       "1           849  1119  1968\n",
       "All        6620  2360  8980"
      ]
     },
     "execution_count": 14,
     "metadata": {},
     "output_type": "execute_result"
    }
   ],
   "source": [
    "conf_matrix"
   ]
  },
  {
   "cell_type": "markdown",
   "metadata": {},
   "source": [
    "The best hyperparameter to produce the highest AUC on the training data is C = 11.28, penality = 'l1'.\n",
    "\n",
    "L1 penalise for the sum the absolute value of the coefficients, and in turn performs feature selection by producing near zero values as the coef for unimportant features. \n",
    "\n",
    "Parameter C is the the inverse of regularization strength (1/lambda), the higher the C, the lower the strength of regularization. \n",
    "\n",
    "Before we put in parameter { class_weight='balanced' } in the logistic regression model we were able to get a 0.82 accuracy, while this is high considering the imbalanced default counts in the data this is not very impressive. Also the recall score was only 0.36. In our model above we have managed to get this to 0.57 recall score."
   ]
  },
  {
   "cell_type": "markdown",
   "metadata": {},
   "source": [
    "<h4>Study the model coef</h4>\n",
    "\n",
    "Here we look to extract the coefficients from the best logistic regression model and try to interpret it."
   ]
  },
  {
   "cell_type": "code",
   "execution_count": 13,
   "metadata": {},
   "outputs": [],
   "source": [
    "# assign the coef from the best model above\n",
    "coef = logreg.coef_\n",
    "model_result = pd.DataFrame(coef.reshape(-1, len(coef)), index=X_train.columns, columns=['coef_value'])"
   ]
  },
  {
   "cell_type": "code",
   "execution_count": 14,
   "metadata": {},
   "outputs": [],
   "source": [
    "# add a column that only looks at the magnitude/affect of the coef not the direction\n",
    "model_result['coef_abs'] = model_result['coef_value'].apply(lambda x: np.abs(x))"
   ]
  },
  {
   "cell_type": "code",
   "execution_count": 15,
   "metadata": {},
   "outputs": [
    {
     "data": {
      "text/html": [
       "<div>\n",
       "<style scoped>\n",
       "    .dataframe tbody tr th:only-of-type {\n",
       "        vertical-align: middle;\n",
       "    }\n",
       "\n",
       "    .dataframe tbody tr th {\n",
       "        vertical-align: top;\n",
       "    }\n",
       "\n",
       "    .dataframe thead th {\n",
       "        text-align: right;\n",
       "    }\n",
       "</style>\n",
       "<table border=\"1\" class=\"dataframe\">\n",
       "  <thead>\n",
       "    <tr style=\"text-align: right;\">\n",
       "      <th></th>\n",
       "      <th>coef_value</th>\n",
       "      <th>coef_abs</th>\n",
       "    </tr>\n",
       "  </thead>\n",
       "  <tbody>\n",
       "    <tr>\n",
       "      <th>pay_amt2</th>\n",
       "      <td>-6.893370</td>\n",
       "      <td>6.893370</td>\n",
       "    </tr>\n",
       "    <tr>\n",
       "      <th>pay_amt1</th>\n",
       "      <td>-3.295820</td>\n",
       "      <td>3.295820</td>\n",
       "    </tr>\n",
       "    <tr>\n",
       "      <th>late_1</th>\n",
       "      <td>3.003829</td>\n",
       "      <td>3.003829</td>\n",
       "    </tr>\n",
       "    <tr>\n",
       "      <th>limit_bal</th>\n",
       "      <td>-1.391725</td>\n",
       "      <td>1.391725</td>\n",
       "    </tr>\n",
       "    <tr>\n",
       "      <th>education_4</th>\n",
       "      <td>-1.102712</td>\n",
       "      <td>1.102712</td>\n",
       "    </tr>\n",
       "    <tr>\n",
       "      <th>pay_amt4</th>\n",
       "      <td>-0.866884</td>\n",
       "      <td>0.866884</td>\n",
       "    </tr>\n",
       "    <tr>\n",
       "      <th>early_3_1</th>\n",
       "      <td>-0.781332</td>\n",
       "      <td>0.781332</td>\n",
       "    </tr>\n",
       "    <tr>\n",
       "      <th>pay_amt5</th>\n",
       "      <td>-0.772886</td>\n",
       "      <td>0.772886</td>\n",
       "    </tr>\n",
       "    <tr>\n",
       "      <th>bill_amt5</th>\n",
       "      <td>-0.762681</td>\n",
       "      <td>0.762681</td>\n",
       "    </tr>\n",
       "    <tr>\n",
       "      <th>late_3</th>\n",
       "      <td>-0.698552</td>\n",
       "      <td>0.698552</td>\n",
       "    </tr>\n",
       "  </tbody>\n",
       "</table>\n",
       "</div>"
      ],
      "text/plain": [
       "             coef_value  coef_abs\n",
       "pay_amt2      -6.893370  6.893370\n",
       "pay_amt1      -3.295820  3.295820\n",
       "late_1         3.003829  3.003829\n",
       "limit_bal     -1.391725  1.391725\n",
       "education_4   -1.102712  1.102712\n",
       "pay_amt4      -0.866884  0.866884\n",
       "early_3_1     -0.781332  0.781332\n",
       "pay_amt5      -0.772886  0.772886\n",
       "bill_amt5     -0.762681  0.762681\n",
       "late_3        -0.698552  0.698552"
      ]
     },
     "execution_count": 15,
     "metadata": {},
     "output_type": "execute_result"
    }
   ],
   "source": [
    "model_result.sort_values('coef_abs', ascending=False).head(10)"
   ]
  },
  {
   "cell_type": "markdown",
   "metadata": {},
   "source": [
    "It seems like payments data negatively affects the odds of default which makes sense as a bigger payment means less balanced (debt) and hence less chance to default. While a larger balance increase the odds to default.\n",
    "\n",
    "No of months in arrears at previous ago is increases the loglikelihood of default, however note the same variable 3 months ago, has the opposite effect. This could suggest relying on old payment behaviour is not relevent in predicting.\n",
    "\n",
    "Also, looking at the above result for the variables with the highest coef, its not the arrears with status 2, 3, but rather payments data, in particular recent payments data. Ituitively speaking, it would make more sense to use recent payments as a % of the outstanding balance rather than amounts. Hence we will do this for the next model to see if we can improve the model."
   ]
  },
  {
   "cell_type": "markdown",
   "metadata": {},
   "source": [
    "<h4>Model 2 - Feature Engineering: Using Payments as a % of balance rather than amount </h4>\n",
    "\n",
    "We need to do some extra data cleaning as the payments as  % of balance data contains some NaN(where balance was 0), and some inf values.\n",
    "\n",
    "We then proceed to carry out model fitting and grid search to find best hyperparameter."
   ]
  },
  {
   "cell_type": "code",
   "execution_count": 16,
   "metadata": {},
   "outputs": [],
   "source": [
    "df2 = cleaning.clean_raw()"
   ]
  },
  {
   "cell_type": "code",
   "execution_count": 17,
   "metadata": {},
   "outputs": [],
   "source": [
    "\n",
    "df2.drop(columns=['pay_0','pay_2', 'pay_3', 'pay_4','pay_5','pay_6'], inplace=True)\n",
    "df2.drop(columns=['pay_amt1','pay_amt2', 'pay_amt3', 'pay_amt4','pay_amt5'], inplace=True)\n",
    "\n",
    "# we split the arrears data as it contains some -2 and -1 which we think are all paid on time or not used card\n",
    "for i in range(1,7):\n",
    "    df2[f'early_{i}'] = df2[f'arrears_{i}'].apply(lambda x: 1 if x <= 0 else 0)\n",
    "    df2[f'late_{i}']= df2[f'arrears_{i}'].apply(lambda x: x if x > 0 else 0)\n",
    "\n",
    "df2.drop(columns=['arrears_1','arrears_2', 'arrears_3', 'arrears_4','arrears_5','arrears_6'], inplace=True)\n",
    "\n",
    "arr = []\n",
    "for i in range(1,7):\n",
    "    arr.append(f'early_{i}')\n",
    "\n",
    "x_feats = ['sex', 'education', 'marriage'] + arr"
   ]
  },
  {
   "cell_type": "code",
   "execution_count": 18,
   "metadata": {},
   "outputs": [],
   "source": [
    "df2.replace([np.inf, -np.inf], np.nan,inplace=True)\n",
    "\n",
    "# around 3k to 4k of rows with NaN pay%_ missing as balance was zero for these\n",
    "df2.dropna(axis=0, inplace=True)"
   ]
  },
  {
   "cell_type": "code",
   "execution_count": 19,
   "metadata": {},
   "outputs": [],
   "source": [
    "X2 = pd.get_dummies(df2, columns=x_feats, drop_first=True)\n",
    "X2.drop(columns=['default'], inplace=True)\n",
    "y2 = df2['default']"
   ]
  },
  {
   "cell_type": "code",
   "execution_count": 20,
   "metadata": {},
   "outputs": [],
   "source": [
    "X2_train, X2_test, y2_train, y2_test = train_test_split(X2, y2, test_size=0.3, random_state=42)\n",
    "\n",
    "scaler = MinMaxScaler()\n",
    "\n",
    "# scale your X\n",
    "X2_train_scale = scaler.fit_transform(X2_train)\n",
    "X2_test_scale = scaler.transform(X2_test)"
   ]
  },
  {
   "cell_type": "code",
   "execution_count": 21,
   "metadata": {},
   "outputs": [
    {
     "name": "stdout",
     "output_type": "stream",
     "text": [
      "Accuracy is :0.8027\n",
      "Recall is :0.5682\n",
      "Precision is :0.5467\n",
      "F1 score is :0.5572\n",
      "\n",
      "AUC is :0.779\n"
     ]
    },
    {
     "data": {
      "image/png": "[encoded data removed]",
      "text/plain": [
       "<Figure size 432x288 with 1 Axes>"
      ]
     },
     "metadata": {
      "image/png": {
       "height": 276,
       "width": 383
      },
      "needs_background": "light"
     },
     "output_type": "display_data"
    }
   ],
   "source": [
    "# taking the best c from last model as a base\n",
    "models.log_reg(X2_train_scale,X2_test_scale,y2_train, y2_test, 0.2,'l1');"
   ]
  },
  {
   "cell_type": "code",
   "execution_count": 22,
   "metadata": {},
   "outputs": [],
   "source": [
    "# call function to get the best params for the log reg model\n",
    "best_c2, best_pen2, best_clf2 = models.grid_search(X2_train_scale, y2_train, score = 'recall', cv=3)"
   ]
  },
  {
   "cell_type": "code",
   "execution_count": 23,
   "metadata": {},
   "outputs": [
    {
     "data": {
      "text/plain": [
       "(0.615848211066026, 'l1')"
      ]
     },
     "execution_count": 23,
     "metadata": {},
     "output_type": "execute_result"
    }
   ],
   "source": [
    "best_c2, best_pen2"
   ]
  },
  {
   "cell_type": "code",
   "execution_count": 24,
   "metadata": {},
   "outputs": [
    {
     "name": "stdout",
     "output_type": "stream",
     "text": [
      "Accuracy is :0.8022\n",
      "Recall is :0.5669\n",
      "Precision is :0.5455\n",
      "F1 score is :0.556\n",
      "\n",
      "AUC is :0.78\n"
     ]
    },
    {
     "data": {
      "image/png": "[encoded data removed]",
      "text/plain": [
       "<Figure size 432x288 with 1 Axes>"
      ]
     },
     "metadata": {
      "image/png": {
       "height": 276,
       "width": 383
      },
      "needs_background": "light"
     },
     "output_type": "display_data"
    }
   ],
   "source": [
    "# See the Performance of the final model using test dataset\n",
    "acc, recall, roc_auc, ftr, tpr, conf_matrix, logreg = models.log_reg(\n",
    "    X2_train_scale,X2_test_scale,y2_train, y2_test,best_c2,best_pen2);"
   ]
  },
  {
   "cell_type": "markdown",
   "metadata": {},
   "source": [
    "Our final model with the feature engineering have produced a recall of 56.8%, accuracy of 80.1% and AUC of 78.4%\n"
   ]
  },
  {
   "cell_type": "code",
   "execution_count": 25,
   "metadata": {},
   "outputs": [],
   "source": [
    "# assign the coef from the best model above\n",
    "coef = logreg.coef_\n",
    "model_result = pd.DataFrame(coef.reshape(-1, len(coef)), index=X2_train.columns, columns=['coef_value'])\n",
    "\n",
    "# add a column that only looks at the magnitude/affect of the coef not the direction\n",
    "model_result['coef_abs'] = model_result['coef_value'].apply(lambda x: np.abs(x))"
   ]
  },
  {
   "cell_type": "code",
   "execution_count": 26,
   "metadata": {},
   "outputs": [
    {
     "data": {
      "text/html": [
       "<div>\n",
       "<style scoped>\n",
       "    .dataframe tbody tr th:only-of-type {\n",
       "        vertical-align: middle;\n",
       "    }\n",
       "\n",
       "    .dataframe tbody tr th {\n",
       "        vertical-align: top;\n",
       "    }\n",
       "\n",
       "    .dataframe thead th {\n",
       "        text-align: right;\n",
       "    }\n",
       "</style>\n",
       "<table border=\"1\" class=\"dataframe\">\n",
       "  <thead>\n",
       "    <tr style=\"text-align: right;\">\n",
       "      <th></th>\n",
       "      <th>coef_value</th>\n",
       "      <th>coef_abs</th>\n",
       "    </tr>\n",
       "  </thead>\n",
       "  <tbody>\n",
       "    <tr>\n",
       "      <th>late_1</th>\n",
       "      <td>2.928569</td>\n",
       "      <td>2.928569</td>\n",
       "    </tr>\n",
       "    <tr>\n",
       "      <th>limit_bal</th>\n",
       "      <td>-2.401898</td>\n",
       "      <td>2.401898</td>\n",
       "    </tr>\n",
       "    <tr>\n",
       "      <th>bill_amt1</th>\n",
       "      <td>1.257828</td>\n",
       "      <td>1.257828</td>\n",
       "    </tr>\n",
       "    <tr>\n",
       "      <th>education_4</th>\n",
       "      <td>-1.102102</td>\n",
       "      <td>1.102102</td>\n",
       "    </tr>\n",
       "    <tr>\n",
       "      <th>pay_amt6</th>\n",
       "      <td>-1.095529</td>\n",
       "      <td>1.095529</td>\n",
       "    </tr>\n",
       "    <tr>\n",
       "      <th>pay%_1</th>\n",
       "      <td>1.051447</td>\n",
       "      <td>1.051447</td>\n",
       "    </tr>\n",
       "    <tr>\n",
       "      <th>early_4_1</th>\n",
       "      <td>-0.883010</td>\n",
       "      <td>0.883010</td>\n",
       "    </tr>\n",
       "    <tr>\n",
       "      <th>late_4</th>\n",
       "      <td>-0.763916</td>\n",
       "      <td>0.763916</td>\n",
       "    </tr>\n",
       "    <tr>\n",
       "      <th>early_3_1</th>\n",
       "      <td>-0.735231</td>\n",
       "      <td>0.735231</td>\n",
       "    </tr>\n",
       "    <tr>\n",
       "      <th>late_3</th>\n",
       "      <td>-0.618864</td>\n",
       "      <td>0.618864</td>\n",
       "    </tr>\n",
       "  </tbody>\n",
       "</table>\n",
       "</div>"
      ],
      "text/plain": [
       "             coef_value  coef_abs\n",
       "late_1         2.928569  2.928569\n",
       "limit_bal     -2.401898  2.401898\n",
       "bill_amt1      1.257828  1.257828\n",
       "education_4   -1.102102  1.102102\n",
       "pay_amt6      -1.095529  1.095529\n",
       "pay%_1         1.051447  1.051447\n",
       "early_4_1     -0.883010  0.883010\n",
       "late_4        -0.763916  0.763916\n",
       "early_3_1     -0.735231  0.735231\n",
       "late_3        -0.618864  0.618864"
      ]
     },
     "execution_count": 26,
     "metadata": {},
     "output_type": "execute_result"
    }
   ],
   "source": [
    "model_result.sort_values('coef_abs', ascending=False).head(10)"
   ]
  },
  {
   "cell_type": "markdown",
   "metadata": {},
   "source": []
  }
 ],
 "metadata": {
  "kernelspec": {
   "display_name": "Python 3",
   "language": "python",
   "name": "python3"
  },
  "language_info": {
   "codemirror_mode": {
    "name": "ipython",
    "version": 3
   },
   "file_extension": ".py",
   "mimetype": "text/x-python",
   "name": "python",
   "nbconvert_exporter": "python",
   "pygments_lexer": "ipython3",
   "version": "3.7.3"
  }
 },
 "nbformat": 4,
 "nbformat_minor": 4
}
